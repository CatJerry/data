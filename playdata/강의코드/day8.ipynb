{
  "nbformat": 4,
  "nbformat_minor": 0,
  "metadata": {
    "colab": {
      "provenance": []
    },
    "kernelspec": {
      "name": "python3",
      "display_name": "Python 3"
    },
    "language_info": {
      "name": "python"
    }
  },
  "cells": [
    {
      "cell_type": "markdown",
      "source": [
        "# 오늘의 목표\n",
        "- DDL DML DCL\n",
        "- DB를 이용하는 문제 입력, 풀기 서비스 개발 with streamlit\n",
        "- api server 만들기\n",
        "- 병원관리 데이터 구성"
      ],
      "metadata": {
        "id": "nH5bTFrNqUKE"
      }
    },
    {
      "cell_type": "markdown",
      "source": [
        "# DB에 문제 입력하는 프로그램 (참고용)"
      ],
      "metadata": {
        "id": "V-g67JRJqcds"
      }
    },
    {
      "cell_type": "code",
      "execution_count": null,
      "metadata": {
        "id": "er7UbL9Xp61P"
      },
      "outputs": [],
      "source": [
        "# 버그들\n",
        "# 1. 신규 그룹 내용을 입력하면 한번에 안됐습니다.\n",
        "# 2. sql_group_jss, quiz_jss에서는 정상으로 동작, sql_group, quiz에서는 멈춤.\n",
        "# tip. 모듈관리를 위한 요령\n",
        "from mysql import connector\n",
        "class Sql_quiz:\n",
        "    HOST_NUM = '192.168.90.119'\n",
        "    myname ='myname'\n",
        "    pw = '1234'\n",
        "    db = ' mydb'\n",
        "    Port = '3306'\n",
        "    def add_quiz_group(self,group):\n",
        "        self.group = group        \n",
        "        # conn =connector.connect(host=self.HOST_NUM,user=self.myname,password = self.pw,database=self.db,port = self.Port)\n",
        "        cursor = self.conn.cursor()\n",
        "        # query = f\"insert into sql_group_jss(name) values('{self.group}');\"\n",
        "        query = f\"insert into sql_group(name) values('{self.group}');\"\n",
        "        cursor.execute(query)        \n",
        "        self.conn.commit()       \n",
        "        # conn.close()\n",
        "    def add_quiz(self,group_name,question,answer):        \n",
        "        self.conn =connector.connect(host=self.HOST_NUM,user=self.myname,password = self.pw,database=self.db,port = self.Port)\n",
        "        cursor = self.conn.cursor()\n",
        "        # group_name이 sql_group 테이블에 있는지 확인\n",
        "        # query = f'select id from sql_group_jss where name = \"{group_name}\";'\n",
        "        query = f'select id from sql_group where name = \"{group_name}\";'\n",
        "        # print(query)\n",
        "        cursor.execute(query)\n",
        "        rows = cursor.fetchall()\n",
        "        if rows:\n",
        "        # if len(rows)>0:\n",
        "            group_id = rows[0][0]\n",
        "        else:\n",
        "            ret = self.add_quiz_group(group_name)\n",
        "            # query = f'select id from sql_group_jss where name = \"{group_name}\";'\n",
        "            query = f'select id from sql_group where name = \"{group_name}\";'\n",
        "            cursor.execute(query)\n",
        "            rows = cursor.fetchall()\n",
        "            # print(\"rows\",rows,group_name)\n",
        "            group_id=rows[0][0]\n",
        "\n",
        "        # 만약 없으면 sql_group에 넣고\n",
        "        # 있으면 id를 받아옵니다.\n",
        "        query = f\"insert into quiz(sql_group,question,answer) values({group_id},'{question}','{answer}');\"\n",
        "        cursor.execute(query)\n",
        "        self.conn.commit()\n",
        "        self.conn.close()\n",
        "print(\"__name__\",__name__)\n",
        "if __name__ == \"__main__\":\n",
        "    sql_quiz = Sql_quiz()\n",
        "    sql_quiz.add_quiz(\"데이터베이스 기본개념2\",'SQL2','데이터베이스를 관리하고 조작하기 위해 특화된 질의 언어')\n",
        "\n",
        "# __name__ db_utils\n",
        "# __name__ __main__"
      ]
    },
    {
      "cell_type": "markdown",
      "source": [
        "# DDL DML DCL\n",
        "- DDL : 데이터베이스 구조 정의\n",
        "- DML : 데이터 조작\n",
        "- DCL : 데이터 액세스 권한 제어\n",
        "- 효과적인 데이터 베이스 관리를 위해 각의 명령어 들을 적절하게 사용하기"
      ],
      "metadata": {
        "id": "AUaHqZAHd4tX"
      }
    },
    {
      "cell_type": "markdown",
      "source": [
        "# 문제와 정답 DB에 입력하는 Streamlit Code"
      ],
      "metadata": {
        "id": "RsC7O07Gdgjn"
      }
    },
    {
      "cell_type": "code",
      "source": [
        "from mysql import connector\n",
        "import streamlit as st\n",
        "st.title(\"우리가 해낸 것\")\n",
        "question_input = st.text_input('문제')\n",
        "answer_input = st.text_input('답을 입력하세요')\n",
        "if st.button(\"입력\"):\n",
        "    \"입력됨\"\n",
        "    st.write(answer_input)\n",
        "    HOST_NUM=\"192.168.90.119\"\n",
        "    user=\"myname\"\n",
        "    password=\"1234\"\n",
        "    port=\"3306\"\n",
        "    database=\"mydb\"\n",
        "    conn =connector.connect(host=HOST_NUM,user=user, password =password,database=database,port =port)\n",
        "\n",
        "    cursor = conn.cursor()\n",
        "\n",
        "    quiz = 'INSERT INTO quiz(sql_group,question,answer) values (1,\"{}\",\"{}\");'.format(question_input, answer_input)\n",
        "    print(quiz)\n",
        "\n",
        "    cursor.execute(quiz)\n",
        "    conn.commit()\n",
        "    conn.close()\n",
        "    # 입력하고 기존의 데이터는 없어졌으면 좋겠다\n",
        "    question_input=''\n",
        "    answer_input=''\n",
        "    st.experimental_rerun()\n",
        "\n",
        "# web browser : 192.168.70.21:8501\n",
        "# http://192.168.90.119:8501/"
      ],
      "metadata": {
        "id": "rJ30vmf8q0x_"
      },
      "execution_count": null,
      "outputs": []
    },
    {
      "cell_type": "markdown",
      "source": [
        "# Goorm DB 끊기지 않게 사용하는 방법\n",
        "- Goorm server의 사용이 없으면 연결이 끊김\n",
        "- 내부적으로 프로그램을 돌려놓으면 계속 연결이 살아있음\n",
        "- terminal에서 \"streamlit hello\"를 실행해 두면 연결이 오래감"
      ],
      "metadata": {
        "id": "OKHxietwdl6e"
      }
    },
    {
      "cell_type": "markdown",
      "source": [
        "# 왜 굳이 테이블을 여러개 만들어서 데이터를 관리해야 하는가?\n",
        "## DB 정규화\n",
        "- DB 정규화는 데이터베이스 설계에서 중복을 최소화하고 일관성을 유지하기 위한 프로세스입니다. 정규화는 데이터베이스 테이블의 열(column)을 분해하고 다시 조합하여 불필요한 중복을 제거합니다. 이렇게 함으로써 데이터의 일관성과 정확성을 유지할 수 있고, 데이터베이스의 성능을 향상시킬 수 있습니다.\n",
        "\n",
        "### DB 정규화는 총 6단계로 구성됩니다.\n",
        "\n",
        "- 제1정규화(1NF): 테이블의 컬럼이 원자적(atomic)인 값을 가지도록 분해합니다. 즉, 하나의 컬럼에 여러 개의 값이 들어가지 않도록 합니다.\n",
        "\n",
        "- 제2정규화(2NF): 테이블의 모든 컬럼이 기본 키(primary key)에 대해서 완전 함수적 종속을 만족하도록 분해합니다. 즉, 테이블에서 기본 키 이외의 모든 컬럼이 기본 키에 의존하도록 만듭니다.\n",
        "\n",
        "- 제3정규화(3NF): 테이블에서 이행적 함수 종속(transitive functional dependency)를 제거합니다. 즉, 한 컬럼이 다른 컬럼에 종속되어 있는 경우, 그 종속 관계를 분해합니다.\n",
        "\n",
        "- BCNF(Boyce-Codd Normal Form): 제2정규화와 비슷하지만, 모든 결정자(candidate key)가 모든 비-결정자(non-key)에 대해 함수적 종속을 가지도록 합니다.\n",
        "\n",
        "- 제4정규화(4NF): 테이블에서 다중 값 종속(multi-valued dependency)를 분해합니다. 즉, 한 컬럼의 값이 다른 여러 개의 컬럼의 값을 결정하는 경우, 그 종속 관계를 분해합니다.\n",
        "\n",
        "- 제5정규화(5NF): 테이블에서 조인 종속성(join dependency)를 분해합니다. 즉, 여러 개의 테이블이 동일한 키를 공유하는 경우, 그 종속 관계를 분해합니다.\n",
        "\n",
        "DB 정규화는 데이터베이스 설계에서 중요한 역할을 합니다. 적절한 정규화 수준을 선택하여 데이터베이스를 설계하면, 데이터의 일관성과 정확성을 유지하면서도 성능을 최적화할 수 있습니다."
      ],
      "metadata": {
        "id": "WcPlArZUhtRl"
      }
    },
    {
      "cell_type": "markdown",
      "source": [
        "# DB에 그룹, 문제, 정답을 입력하는 프로그램"
      ],
      "metadata": {
        "id": "S2ZxGAQ1ifMe"
      }
    },
    {
      "cell_type": "code",
      "source": [
        "# db_config.py\n",
        "Config = {\n",
        "    'host' : '13.124.204.183',\n",
        "    'port' : '59918',\n",
        "    'user' : 'sub330',\n",
        "    'password' : '0330',\n",
        "    'database' :'subDB'\n",
        "  }"
      ],
      "metadata": {
        "id": "F08SUj3_howo"
      },
      "execution_count": null,
      "outputs": []
    },
    {
      "cell_type": "code",
      "source": [
        "# st_quiz.py\n",
        "import streamlit as st\n",
        "from db_config import Config\n",
        "from quiz import Sql_quiz\n",
        "import numpy as np\n",
        "\n",
        "st.title('[PLAYDATA] SQL QUIZ')\n",
        "\n",
        "add_selectbox = st.sidebar.selectbox(\n",
        "    \"무엇을 하시고 싶으신가요?\",\n",
        "    (\"문제제출\", \"문제풀기\", \"나의 성적 확인하기\")\n",
        ")\n",
        "\n",
        "\n",
        "if add_selectbox =='문제제출':\n",
        "    st.header('SQL QUIZ 내기')\n",
        "\n",
        "    input_group=st.text_input(\"Quiz Group을 입력해주세요 💡 \")\n",
        "\n",
        "\n",
        "    col1, col2 = st.columns(2)\n",
        "\n",
        "    with col1:\n",
        "        input_question=st.text_input(\n",
        "            \"Question :question:\"\n",
        "        )\n",
        "\n",
        "    with col2:\n",
        "        input_answer=st.text_input(\n",
        "            \"Answer :heavy_exclamation_mark:\"\n",
        "        )\n",
        "    \n",
        "    if st.button('submit'):\n",
        "        st.write('새로운 문제 제출 감사합니다.')\n",
        "\n",
        "        Sql_quiz(Config).add_quiz(input_group,input_question,input_answer)\n",
        "\n",
        "        with st.container():\n",
        "            st.write(\"회원님이 제출하신 문제입니다. 😆\")\n",
        "\n",
        "            st.markdown(f\"\"\"## {input_group}\"\"\",True)\n",
        "    \n",
        "            st.markdown(f\"Question : {input_question}\")\n",
        "            st.markdown(f\"Answer : {input_answer}\")\n",
        "\n",
        "if add_selectbox =='문제풀기':\n",
        "    st.write('~~~~~~미완성~~~~~~~')\n",
        "    st.write(Sql_quiz(Config).get_quiz_group())\n",
        "    # tab1, tab2 = st.tabs(Sql_quiz(Config).get_quiz_group())"
      ],
      "metadata": {
        "id": "wTDzykpkizf3"
      },
      "execution_count": null,
      "outputs": []
    }
  ]
}