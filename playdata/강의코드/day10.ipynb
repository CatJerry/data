{
  "nbformat": 4,
  "nbformat_minor": 0,
  "metadata": {
    "colab": {
      "provenance": []
    },
    "kernelspec": {
      "name": "python3",
      "display_name": "Python 3"
    },
    "language_info": {
      "name": "python"
    }
  },
  "cells": [
    {
      "cell_type": "markdown",
      "source": [
        "# 10번째 스토리\n",
        "- Numpy 배열 연산과 통계\n",
        "- 병원관리 SQL Table 설계 확인하고 발전사항 기록\n",
        "- 이번주에 배운내용 정리"
      ],
      "metadata": {
        "id": "rsLD5Pcz9ai8"
      }
    },
    {
      "cell_type": "markdown",
      "source": [
        "# 다음주의 이야기\n",
        "- Mini Project 과학적인(?) 팀 구성\n",
        "- Pandas 시리즈와 데이터 프레임\n",
        "- 데이터프레임 심화\n",
        "- 데이터 시각화 - 탐색적 데이터 분석(EDA)\n",
        "- Mini Project(14, 17일)"
      ],
      "metadata": {
        "id": "2tj9BaxI-DbD"
      }
    },
    {
      "cell_type": "markdown",
      "source": [
        "# 항목별 연산 예제"
      ],
      "metadata": {
        "id": "wMgGl1BwJ8m9"
      }
    },
    {
      "cell_type": "code",
      "execution_count": null,
      "metadata": {
        "colab": {
          "base_uri": "https://localhost:8080/"
        },
        "id": "IC_LHbXr9YMH",
        "outputId": "5d3be1ca-5587-4670-a6f8-78cc631fccec"
      },
      "outputs": [
        {
          "output_type": "execute_result",
          "data": {
            "text/plain": [
              "array([5, 7, 9])"
            ]
          },
          "metadata": {},
          "execution_count": 1
        }
      ],
      "source": [
        "# 두 배열의 합\n",
        "import numpy as np\n",
        "\n",
        "a = np.array([1,2,3])\n",
        "b = np.array([4,5,6])\n",
        "c = a+b\n",
        "c"
      ]
    },
    {
      "cell_type": "code",
      "source": [
        "# 두 배열의 곱\n",
        "c = a*b\n",
        "c"
      ],
      "metadata": {
        "colab": {
          "base_uri": "https://localhost:8080/"
        },
        "id": "YcIHvy1EJ3yd",
        "outputId": "5dec8407-f425-475c-8e67-282c4a03f7ea"
      },
      "execution_count": null,
      "outputs": [
        {
          "output_type": "execute_result",
          "data": {
            "text/plain": [
              "array([ 4, 10, 18])"
            ]
          },
          "metadata": {},
          "execution_count": 2
        }
      ]
    },
    {
      "cell_type": "code",
      "source": [
        "A = np.array([[1, 2], [3, 4]])\n",
        "B = np.array([[5, 6], [7, 8]])\n",
        "print(A)\n",
        "print(B)\n",
        "C = np.dot(A, B)\n",
        "C"
      ],
      "metadata": {
        "colab": {
          "base_uri": "https://localhost:8080/"
        },
        "id": "2FpS40VfKEuM",
        "outputId": "2a0e3983-a6fe-4a9f-f591-4b7dd2c9a9b8"
      },
      "execution_count": null,
      "outputs": [
        {
          "output_type": "stream",
          "name": "stdout",
          "text": [
            "[[1 2]\n",
            " [3 4]]\n",
            "[[5 6]\n",
            " [7 8]]\n"
          ]
        },
        {
          "output_type": "execute_result",
          "data": {
            "text/plain": [
              "array([[19, 22],\n",
              "       [43, 50]])"
            ]
          },
          "metadata": {},
          "execution_count": 3
        }
      ]
    },
    {
      "cell_type": "code",
      "source": [
        "# 전치 행렬\n",
        "A = np.array([[1, 2], [3, 4]])\n",
        "print(A)"
      ],
      "metadata": {
        "colab": {
          "base_uri": "https://localhost:8080/"
        },
        "id": "1W4vYSU7KPlM",
        "outputId": "f26536e2-5963-4fe7-9fc2-eda2b36d0f77"
      },
      "execution_count": null,
      "outputs": [
        {
          "output_type": "stream",
          "name": "stdout",
          "text": [
            "[[1 2]\n",
            " [3 4]]\n"
          ]
        }
      ]
    },
    {
      "cell_type": "code",
      "source": [
        "type(A)"
      ],
      "metadata": {
        "colab": {
          "base_uri": "https://localhost:8080/"
        },
        "id": "OU0H8hS8Kej0",
        "outputId": "b44368c4-66ff-4157-a097-e7ffce28a231"
      },
      "execution_count": null,
      "outputs": [
        {
          "output_type": "execute_result",
          "data": {
            "text/plain": [
              "numpy.ndarray"
            ]
          },
          "metadata": {},
          "execution_count": 5
        }
      ]
    },
    {
      "cell_type": "code",
      "source": [
        "A.T"
      ],
      "metadata": {
        "colab": {
          "base_uri": "https://localhost:8080/"
        },
        "id": "sv506Y0YKmOt",
        "outputId": "521599f7-fd68-43f5-df3f-6517ab69c38c"
      },
      "execution_count": null,
      "outputs": [
        {
          "output_type": "execute_result",
          "data": {
            "text/plain": [
              "array([[1, 3],\n",
              "       [2, 4]])"
            ]
          },
          "metadata": {},
          "execution_count": 7
        }
      ]
    },
    {
      "cell_type": "code",
      "source": [
        "a = np.array([[1,2,3],[4,5,6]])\n",
        "b = np.array([[11,12,13],[14,15,16],[24,25,26]])\n",
        "a, b"
      ],
      "metadata": {
        "colab": {
          "base_uri": "https://localhost:8080/"
        },
        "id": "KhL65KezKz_L",
        "outputId": "7203b86c-1166-4f12-8aa4-ec4db08d00f0"
      },
      "execution_count": null,
      "outputs": [
        {
          "output_type": "execute_result",
          "data": {
            "text/plain": [
              "(array([[1, 2, 3],\n",
              "        [4, 5, 6]]),\n",
              " array([[11, 12, 13],\n",
              "        [14, 15, 16],\n",
              "        [24, 25, 26]]))"
            ]
          },
          "metadata": {},
          "execution_count": 12
        }
      ]
    },
    {
      "cell_type": "code",
      "source": [
        "a.shape, b.shape"
      ],
      "metadata": {
        "colab": {
          "base_uri": "https://localhost:8080/"
        },
        "id": "1L_R5Y56LQNs",
        "outputId": "014684da-b0bf-401f-9408-10b178dd2a90"
      },
      "execution_count": null,
      "outputs": [
        {
          "output_type": "execute_result",
          "data": {
            "text/plain": [
              "((2, 3), (3, 3))"
            ]
          },
          "metadata": {},
          "execution_count": 13
        }
      ]
    },
    {
      "cell_type": "code",
      "source": [
        "np.dot(a,b)"
      ],
      "metadata": {
        "colab": {
          "base_uri": "https://localhost:8080/"
        },
        "id": "4fSzmv3IK9T8",
        "outputId": "71fd8549-a0c4-48b2-b1b2-463bd21133b9"
      },
      "execution_count": null,
      "outputs": [
        {
          "output_type": "execute_result",
          "data": {
            "text/plain": [
              "array([[111, 117, 123],\n",
              "       [258, 273, 288]])"
            ]
          },
          "metadata": {},
          "execution_count": 14
        }
      ]
    },
    {
      "cell_type": "code",
      "source": [
        "# 전치행렬의 사용 예\n",
        "a = np.array([[1,2,3],[4,5,6]])\n",
        "b = np.array([[11,12,13],[14,15,16]])"
      ],
      "metadata": {
        "id": "WQN65afVLEzN"
      },
      "execution_count": null,
      "outputs": []
    },
    {
      "cell_type": "code",
      "source": [
        "b.T"
      ],
      "metadata": {
        "colab": {
          "base_uri": "https://localhost:8080/"
        },
        "id": "2_crtVwrLqv7",
        "outputId": "da841998-1bc9-4068-fece-b9f2d8ee69b8"
      },
      "execution_count": null,
      "outputs": [
        {
          "output_type": "execute_result",
          "data": {
            "text/plain": [
              "array([[11, 14],\n",
              "       [12, 15],\n",
              "       [13, 16]])"
            ]
          },
          "metadata": {},
          "execution_count": 17
        }
      ]
    },
    {
      "cell_type": "code",
      "source": [
        "np.dot(a,b.T)"
      ],
      "metadata": {
        "colab": {
          "base_uri": "https://localhost:8080/"
        },
        "id": "KOSf3MAOLm4O",
        "outputId": "9d87b3eb-76af-4cc5-945e-9c30e04feab4"
      },
      "execution_count": null,
      "outputs": [
        {
          "output_type": "execute_result",
          "data": {
            "text/plain": [
              "array([[ 74,  92],\n",
              "       [182, 227]])"
            ]
          },
          "metadata": {},
          "execution_count": 18
        }
      ]
    },
    {
      "cell_type": "code",
      "source": [
        "# 역행렬\n",
        "# np.dot(A,B) = E\n",
        "# B는 A의 역행렬이다(A는 B의 역행렬)\n",
        "E = np.eye(3)\n",
        "E"
      ],
      "metadata": {
        "colab": {
          "base_uri": "https://localhost:8080/"
        },
        "id": "xN4VKcOeLous",
        "outputId": "b7026ecc-0a63-4a53-bc8c-a9d0e4f2c03f"
      },
      "execution_count": null,
      "outputs": [
        {
          "output_type": "execute_result",
          "data": {
            "text/plain": [
              "array([[1., 0., 0.],\n",
              "       [0., 1., 0.],\n",
              "       [0., 0., 1.]])"
            ]
          },
          "metadata": {},
          "execution_count": 19
        }
      ]
    },
    {
      "cell_type": "code",
      "source": [
        "# 우리가 아는 사례\n",
        "# a*b = a\n",
        "# 3 * b = 3 # b=1"
      ],
      "metadata": {
        "id": "WS6btFLEMepl"
      },
      "execution_count": null,
      "outputs": []
    },
    {
      "cell_type": "code",
      "source": [
        "# 브로드캐스팅 예제\n",
        "A = np.array([[1,2],[3,4]]) \n",
        "b = np.array([1,2])\n",
        "C = A+b\n",
        "C"
      ],
      "metadata": {
        "colab": {
          "base_uri": "https://localhost:8080/"
        },
        "id": "rwUT6Po1M1NO",
        "outputId": "b2f0b1a6-62b6-42d2-a32d-3b5cb1175068"
      },
      "execution_count": null,
      "outputs": [
        {
          "output_type": "execute_result",
          "data": {
            "text/plain": [
              "array([[2, 4],\n",
              "       [4, 6]])"
            ]
          },
          "metadata": {},
          "execution_count": 20
        }
      ]
    },
    {
      "cell_type": "markdown",
      "source": [
        "# Numpy 통계 함수\n",
        "- 평균\n",
        "- 중앙값\n",
        "- 표준편차\n",
        "- 분산"
      ],
      "metadata": {
        "id": "8LaFieuKQPjv"
      }
    },
    {
      "cell_type": "code",
      "source": [
        "data = np.array([1,2,3,4,5])\n",
        "\n",
        "mean = np.mean(data)\n",
        "median = np.median(data)\n",
        "std_dev = np.std(data)\n",
        "variance = np.var(data)\n",
        "mean, median, std_dev, variance"
      ],
      "metadata": {
        "colab": {
          "base_uri": "https://localhost:8080/"
        },
        "id": "vH6J_gipM_TM",
        "outputId": "4636aa58-d7ad-4c4c-ddbe-3a99c0540bb7"
      },
      "execution_count": null,
      "outputs": [
        {
          "output_type": "execute_result",
          "data": {
            "text/plain": [
              "(3.0, 3.0, 1.4142135623730951, 2.0)"
            ]
          },
          "metadata": {},
          "execution_count": 21
        }
      ]
    },
    {
      "cell_type": "code",
      "source": [
        "# 평균 구하기\n",
        "# 리스트로 구하기\n",
        "a_list = [1,2,3,4,5,6]\n",
        "sum(a_list)/len(a_list)"
      ],
      "metadata": {
        "colab": {
          "base_uri": "https://localhost:8080/"
        },
        "id": "XpgNYliVShSr",
        "outputId": "08852f0e-ae44-49fe-a859-ea3242b3d73e"
      },
      "execution_count": null,
      "outputs": [
        {
          "output_type": "execute_result",
          "data": {
            "text/plain": [
              "3.5"
            ]
          },
          "metadata": {},
          "execution_count": 23
        }
      ]
    },
    {
      "cell_type": "code",
      "source": [
        "# numpy로 평균 구하기\n",
        "np.array(a_list).mean()"
      ],
      "metadata": {
        "colab": {
          "base_uri": "https://localhost:8080/"
        },
        "id": "6QbMkXwzSp2F",
        "outputId": "17157cc4-e491-4bae-b181-9960d6f2230a"
      },
      "execution_count": null,
      "outputs": [
        {
          "output_type": "execute_result",
          "data": {
            "text/plain": [
              "3.5"
            ]
          },
          "metadata": {},
          "execution_count": 24
        }
      ]
    },
    {
      "cell_type": "markdown",
      "source": [
        "# 이번주에 배운내용 정리\n",
        "- sql공부를 위해서 mysql 서버를 만들기\n",
        "- table 구조에 대한 공부\n",
        "- api 서버를 만들어서 서비스를 제공\n",
        "- 영상을 이용한 프로그램 개발\n",
        "\n",
        "## 기록을 남기는데\n",
        "- 스토리 - 기승전결"
      ],
      "metadata": {
        "id": "2oVp3i4WUt0N"
      }
    },
    {
      "cell_type": "markdown",
      "source": [
        "## sql공부를 위해서 mysql 서버를 만들기\n",
        "- goorm 사용\n",
        "- 리눅스 환경\n",
        "- mysql service를 (service mysql status / service mysql start)\n",
        "- 사용자 계정 만들고 권한부여\n",
        "- DB(mydb) 생성\n",
        "- 사용 -> 자꾸 끊겼다\n",
        "- 고민\n",
        "- 사용을 잠깐 안하면 끊기네\n",
        "- 어떤 프로그램을(streamlit hello) 켜놓으니\n",
        "- 사용 가능시간이 늘어서\n",
        "- sql 공부를 더 집중해서 할 수 있었다"
      ],
      "metadata": {
        "id": "R8lia4ecVSu-"
      }
    },
    {
      "cell_type": "markdown",
      "source": [
        "# 테이블 설계 예시\n",
        "- 빈 공간 낭비 문제\n",
        "- 새로운 항목 추가에 어려움\n",
        "![image.png](data:image/png;base64,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)\n",
        "\n",
        "- 추천 예시\n",
        "-\n",
        "![image.png](data:image/png;base64,iVBORw0KGgoAAAANSUhEUgAAAf4AAAFUCAYAAADF6F6tAAAAAXNSR0IArs4c6QAAAARnQU1BAACxjwv8YQUAAAAJcEhZcwAADsMAAA7DAcdvqGQAAC3pSURBVHhe7d1/jBVlvufxb98dhUVRAZHGll5RMYyEwTBIukETgv6xsf1j0+ziDxKTu+wfFwwb/phdvQMmk4w/xuxkQ9aIf+xlb2KCP7gXVnNts8kqS7LddAcZ/MEyQ2QQ53BbGhzAn4zI3Nv7fKue6lOnTlWdOqfPj+d0vV+VA6fqnNMN/XTV53meeqqejnFjaOSgrO5ZJXBHoVCQ7u5uuwYXUCbuoUzcQ5m4J1omHYPDQ+P65BdvTfc2AAAwGbs23WifwUUTLf7n/s/tdhNc8MPXo3L1dV12DS6gTNxDmbhHy+R/P7/crsEF0Rb/X9i/AQBADhD8AADkCMEPAECO1Dn4D8vvf94p74Qf+w+b7efk89c2yudfiVz+aKMc+eic//YqXdw/ia/x1T458to+uWxXJ+h2799Y7uL+Tvn9absCAMAUkBr8GrAlIR55lIfiCrnjuTF5MHhseko651R7WUdS5SEDDfGJz/mVhEzefaj0+9nH8Lv2dQAApojU4J+2bFcxxCOP3gfsmxKZVv7gUem89Sa7Xo2npDf8/dausNvTmArDCwPS+aT9zJN9MvZCxvB/4O3i9wo9Kv8fAQBoLw06x69d+z+Rsbuel5uvt5tkQD58oVPee2PArtfX5Y9elq8fDn2/6/tlycMiY59lOCVAix8AkBP1D/7TO0xoauh/LMuXhVv7fXK3aY3f/3CfXU/zKxm24Zv1XP6l8wNy3ezS3oVps5fK2PmCXUtgKgjLY1r7weOOBfZ9AABMAZmDP9NANw39l8Xrpi8N/WoVu/r16+j3rnsLvGQ8QKVHFeMFAABwWOY792n4nl9UbAHrCPs//XRXqCu/XnRw36DMeW6rzLJbAsH3nPPZRjkmz5dULnQgYuo2Dfp3RJY82i/T7Osu445k7qFM3EOZuIc797mnTnfuOyd/Omufxqh0NUCtl/OlmbZsk1z3xl8XW+Ym6I+9sVQWVup58E5NxP879cHlfACAqaTmFn+t4lrmpbTF/5B8Ytd82vW/VSSlxe/RVv0Lm2XMW9ExBaEeiRpa/PX6P9eClox7KBP3UCbuocXvnrLZ+WKDvyRAK4kEbAWVgz9ZWld/RUnB741L+JVdKXfnJoIfPsrEPZSJewh+92QL/gZyMvhP3JvxXgHNwwHNPZSJeygT9xD87mF2vjgJ1/F7j6x3DQQAoA0wH7+jaMm4hzJxD2XiHlr87qHFDwBAjhH8AADkCMEPAECOdAwOD43rk1+8Nd3bAADAZOzadKN9BhcxuM9RDFpyD2XiHsrEPQzucw+D+wAAyDGCHwCAHCH4AQDIEc7xO6q2c5dJUxrHTXwU8sDbzt2y2EWpZXJ6hxy58FjoNtLmZ/5aQRY82i+X6jbZU4VyVDkry5r3E1s2mafo1lt+/6ZblrOfVMQ5fvdUMUnPgHTGTr5zTj5/7ScydtfHNd1vH9kkH9BKD/6lkwjpa3HBn8LRuQpcVF4myUF856a3RQbTgr9CiFMZyyR2P0mYeKu4r8QFf0J5LN0p9+v7CP7MCH73EPxtIj74/Z/9pXtDBzBzsJLwAY0Wf8MkV8biFMMlOfirrKRZOl30qTnh/S/6e5EfWcukdIrtYtmUBn9KeRD8mRH87sk2qv/6fln+XPapdtEkp1+VD+e9HTq4r5A7Nj0ln5zIMpHQU9L73Jg8GPfgYDYpOuNkMyd1mjGnT8bOF+yaKsilo30y4zq7iohz8qezT8mcnFWKgCTxwa+1259vlM+/Cq/bA9trr8oluxnNdfnCUemcU6y1ea7rls6zBblsV5P9SoaDMow+XtuX4fOIdXqHvPfbPrnfVqJ65SE58tE5/7Wjm+U98/MdftdfnTS7H773xkBkRkntzRmQD1+gLGN5FeZ7M/SslO8jE2UJTCEZRvWfk8/f2Szy8Md+6/BekU+O2pfQJlbIHUHrPu5R0uWJamhl7M57iz+/WT/dKfLbQT989fyw+fn2PuC9NHleT1yo3J7cKZ32e1CWSQ7L718W6c3Uq1XeK1ZyOjOobFG5QpurHPxfDcrY0T7pvNXuAAsek7uX+k/RXNNmL4108RpfF2RsXnfCwV7P/Za2YNIetG6qp2XyyWAxCC5/Zlrjd92bMXyr6IXRAWvR97yw2eybfq9C6Ws75KL9WL7pefuXZcaT1Y+jiKVjYahcYQqoPLjvax0ha2rMoUEv5YOLUG/ZB/fpgS0Yj1FhgBImJWkgmZ7j97rfVTAKXMui7pfzISpxcJ83sv+o3B07QLlYNsUAr7DvMLgvMwb3uaf6W/bqOWQ5Kn8Kzvd7A2XsUzTZTXLzo2+LvBy07HREf5ZBmHpQC7cII48mDEibyqYt21XsHm5wa1ArGfTMpNOGyTuD3XJ/1QOU43tg+HljqslwOZ/fytTR5N7ob+81/5w/Lf7GSWzJpEpqtaS0ZriOP7O0MtFAPibPZ9gn7P6UcZxMZ2Q/y/598qHm/aSsxV8BLf7MaPG7p4ZJevxW5p3BwJYXCnJdvQYrAbmj+1Nx8FilBwEPoN64Za+j6t/i5wY+k1WpxT9xnj9OnX7Glb5P6Z0cpz5a/O6hxe+ebHfuQ8vVdkBDI1Em7qFM3EPwu6eGrn4AADBVEPwAAOQIwQ8AQI50DA4PjeuTX7w13dsAAMBk7Np0o30GFzG4z1EMWnIPZeIeysQ9DO5zD4P7AADIMYIfAIAcIfgBAMgRgh8AgBwh+FtIZxHLPPOX3jL05xvl84lZEkO8udqZgx3tSicu6pTfn7arlt6emBny3FTVsQvOIfhbRHec4XftCpBbCbMVmorusTdE7n5yTB58cqfIG38dX+lF03Hsan8Ef9PphDlmxzn7lNy51G4C8sjrxTKhP8/sC3ZT4PJnAzK2tE/m6Hz61/fLwgfM+me0MFuLY9dUQfC3wJxNphXz6GMyw67XQmvd8d37frfpO6/tk8u66p0G8LtL30k6VQC0RLcs1Bb92nvtetGl8wMi87pLZs8bO1+wz9Aq9Th2ofUI/qZbIbMmOW2q19Umb8uDZdPv+t2mY3d9bHZOnXLU1NBfPup3l+r87puWyofv2AoB0GrXm31BW/QJOucUbzgyY06ffYbWmfyxC24g+NvM2Ds29MvmBT8qp2zoL192k92mBuTD3xz2ny7YaisEAIC8IvjbyoCMSZ90vvtyTJf9gHn0ydgbr4a6/1fIHc+9LXe++1Cxu3+/rQQAjgt37Xtd/wDqguBvK31y94O7ZMnDEtNl/5QsfHSX9D7wKxkuCXcNf9vV/+ROU2l4qOyyKcA1cV374a5/ALUj+NvQtGXPy92yWY7FXEc7a63fwvfCPXrt//Xdcp2pPMy4zq4Djpp2a6hny/wen3rXrN8aPoUFoFYEf1u6SW6+9ykZi722eYUseLhPPnl5h1y8vl+W64C+F4JR/Q/J1w8/LzenDKgCnGB+d72eLf3dfWGzCL+3QN0wLa+jmG7UPZSJeygT9zAtr3uYlhcAgBwj+AEAyBGCHwCAHCH4AQDIkY7B4aFxffKLt6Z7GwAAmIxdm260z+AiRvU7itHK7qFM3EOZuIdR/e5hVD8AADlG8AMAkCMEPwAAOULwAwCQIwR/0x2W3wdT5Orjtegse0DenJPPX+uMzBrJfuIeymSqIPibSg9wOlHOx/40uc997M2y9x5z5CO3dJ/4iXx41K562E/cQ5lMJQR/U90kNz86JsuXBdOL3iRz7uoTOVug5oz88aaNNqE/7ym5027ysZ+4hzKZSgj+duIdKENdbdS20da6ZeGTpvW49l67DqAZCP6WOiyn3xiQzrvulWl2S7Jz8vk7m+W6TdrNZh5P7pTOd1+OmY8faBPXr5BZmebYr2Y/QXNQJu2M4G8Z/5zZJ0t3ypKJ7rM0flfbHQvs6tcFGbNPgamr2v0EjUeZtDuCvyV0x/mJfCg75f5H+zPXmC/uD3XzDx6VTrsdmJpq20/QSJTJVEDwN53dcea9LQ9Ws+N8tU9Ovdsnd+s5Ue3qf7DPvgBMRTXuJ2ggymSqIPib7OJ+W1teu8JuqcaAXPraf3bxN5vp6seUNbn9BI1AmUwdBH9THZbz75q/jm6W98Kj83++Qy76b0h2fb8sfEDkk5f9z5xf9LbcGaoIAFPHJPYTNAhlMpUwLa+jmG7UPZSJeygT9zAtr3uYlhcAgBwj+AEAyBGCHwCAHCH4AQDIkY7B4aFxffKLt6Z7GwAAmIxdm260z+CiiVH9q3tW2U1wQXQUJlqPMnEPZeIeysQ9jOoHACDHCH4AAHKE4AcAIEcIfgAAcoTgBwAgRwh+AAByhOAHACBHCH4AAHKE4AcAIEcIfgAAcoTgBwAgRwh+AAByhOAHACBHCH4AAHKE4AcAIEcIfgAAcoTgBwAgRwh+AAByhOAHACBHOgaHh8b1yYL7bvE2AEhx0v4NAG2qY9wYGjkoq3tX2U0A4hR+VJDuK912DS4oFEyZdFMmLqFM3BMtE7r6AQDIEYIfAIAcIfgBAMiRDME/LM9KR2R51mxNEvf+8JL8ycBw6N1Jy7P2vWFjsi70juiyTl6176veq+bT+u/W/1va/z1O8meGE/9N+v1eNf8fAADqq0Lwa2jpoL/xyCJma1oAPiMHQ+8uXXrte5L1ht49br7SM97W0q+4zdtWqlP2ht4RXs7IbvueNOUVh6yVhdLKTlylJN4+2RD6XHHZYF4BAKD+KgT/ftluArc8ZLeZrdvNq400ZkJXQ9CveJyRX5vn6a3t5Bb/fBOl2fSb71SsMOyVx+z2ZPrvDFeODprnWcO/31RIgs+Fl93mFQAA6q9C8K81rW1t20dpP8Az5tUk283r4eANL5W6sIPW83w5ZWNwrVnb5bXm15rKRvrXKQ3u8JIlxGuxy1QqwpWjXvP8GfMTyHJCgBY/AKC5KgS/hpjfgi1dtON9W0KnvX6mGLf66WdC6+Mmfjv9NyYofr68pyH8tSt9ndrsMxUO//+Y7Vz+mBwxlY2Fdi2w0Gw7VaGCo/+b4P8StzTm/wcAyLcMg/tKg9xf4kI/6JovXbQTfHtoPVjWxcbi5L9GMbjLl/jvWarYY6D/Rx1kp5+sbws8y+DF4pKl+gEAQDYJwR8EXpYlGADXadqoQcWg8rI3tj07ua+RPLjPX+K/Z5rH7FdMPufeKctNpeCUXQucMtsWJn639JZ+dKk8GBIAgKwSgj8IvPCiI+PjRuvHnTuPb7lnaXEXVfM10i8gLF2qvRyvko3m5xIeB6FjFI6YbZUCO/7/V1y4nA8AUH8Vuvo1UKuNSQ2+4sC84nLGhPb8jOGvoVjN1wifjNCL/8LVE70cMFxhSRqb4IueKqj879VeivA4CD0xkWUgYVrvBqP6AQCNkeEcf7VOee3djXatSINOr6bfnyH695voTPsa0a71+og7VZDt9EDpOIi4ewyUS2vxM6ofANAYVQS/hm56a9m3UJab4Npl14o06PRq+rUZonStaWlvkCfKqgjB14iOom9XSdfx68KofgBA/WUI/uQr8uO7wbX1e8ZEc/idusw3reczGVvQWsnwu/XDXyG4tr/6QXquSrqOX5fJ3GIYAIB4zMcPZMR8/O5h7nf3UCbuYT5+AAByjOAHACBHCH4AAHKkY3B4SGfZlQX33eJtAJDipP0bANoUg/sc5Q0k+zMDZFzC4D73MJDMPZSJexjcBwBAjhH8AADkCMEPAECOEPxtSSdCCt/lT5e0WQfj3h9e4j4ZPzVz8W6N+jWZQRAA2k1C8OtBP+mWsf7kMtlm2UP9aeDqQMzwff110Zsrp4V/3JTKwZI0A8NuORN61xnpD81euEq223cBANoHLf62s98E7sGYGQC3ma3bzauN1T9RFdDpjgEA7SYh+B+TvWapPKc8mm+tCVxt20dpP8Az5tUk283rQYd9dKHLHgDyImNXf/h8764GzYaPbHT2w4Pm76A8gkW8foD4Tnv9TNBhr2117fgvrlczBTBd/QDQ3jJ09Qdz4AddvNp2RGuVBrm/xIW+Px4juugIge2h9WApH7exoWRi5Pkm9unqB4D2liH498tec7hfN9Em3Ci77TM0U/wo+/gl6K3pNG35oGJQedlb0u7X0z3hV/2l9D0AgHaTIfhPmXbecllo1zRMis/RPHFBfMZUwuJG68eNz4hv/We5OmM49P5gWWd+C7ZVcYoAAOCGDMG/0LT3j4TO649xjr+l9Ir85Iv24uklgPNNuYUrB7qcMQE+PyX8/crCrye694vLz7yTANX+OwAArZYh+NeaYNgnGyYO8tr1j/ZyylTddstGu1akpwL0xM3+hOg/ZZbd8lJMu77XO8d/KkN/AQDAJRmCX8NBD/LBxWCnZLl9Ba2mZZM0kj9soSmzDbLLrhUFAzfXJnTZLzTLBnkiJt6HvVH9CxM+BwBwVULwR6/jD48i3+Y9Z5BXKyVfkR/fba/ld8bEdPidusw35XgmpSz9wYF+t37p4nf/V65yAADckqHFD7eUX8gXXiqFeHTJUoHrDb0/WKj4AUB7IvgBAMgRgh8AgBwh+AEAyJGOweEhvQuvLLjvFm8DgBQn7d8A0KY6xo2hkYOyulfv4A5XFH5UkO4/d9s1uMArkyuUiUsKBVMm3ZSJSygT90TLhK5+AAByhOAHACBHCH4AAHKE4J8SdBKeV2XMuwVvMCUvAADlCP4W0ulus0yLW1Q+J/+z9pV0WjEIfyq6MMseAOQFwd8iGvq1XUexu2SS3G12a2Vx8/YHC/fcB4C8IPibzm99rzJB/IzdAgBAsxD8LbDWa2VvlIV2vVZjEx3/OkUuAACVEfxN11u3jvVO2Wu76g/SewAAyITgz43tKbP46xUBAIA8IPhzobfCLP6PMbs+AOQEwd92Nsj8UFud1joAoBoEf1t5bOKsfnFJa63rDX3ClYT0pbp7CgAA2hHBP6V1mmpBuJKQvuylwx8ApjyCv2X8UCZsAQDNRPBPCTp4T7v8tTKx1zwAAIhH8AMAkCMEPwAAOULwAwCQIx2Dw0Pj+mTBfbd4GwCkOGn/BoA21TFuDI0clNW9tU0Si8Yo/Kgg3X/utmtwgVcmVygTlxQKpky6KROXUCbuiZYJXf0AAOQIwQ8AQI4Q/AAA5AjB30bGZF3kfvrPSocMm7/1nvzPmmf69zrzSKKv6vtLDZuv8qx9DgCY2gj+phv24rq4MLseAKB5CP6m0hb5KjkiZ+y0OGdktzfNbnkrvH7C1YwNss98/+I6lQ4AyBuCv6miE/N0ylrpN3+fyhzA+0pm499utmiQzzeRnmSbrWTostt8t4Oh9bQpfQEAUxHB32b6J3oLdHnGbNEg156DLE6ZigMAIM8I/pYall0mivtNu78ZLe9hOWK+169TBv8BAKY6gr9l/PP9201b/aUqYr+8qz8bvSJglfxM9pq/93JuHwByi+BvCQ19PS+/W85UcZ6900R2sZs/WHrtq8n0cr35JvDPeO/VGftPmXW9/A8AkDcEf9MFoa/n5msbXFd+PX8yv6UfrWDogD8dFkj4A0DeEPxNNjzR0q/cUs9OrxbYZr6i/r3XPIr8XoK4CoaGv34GAJAnBH9TDct+72+9dr94pl7vm0fLGwDQDAR/U/WWXFVfXKpveZcO8itdsp4GAADkD8HfhuIH+RWX4g2Csuk1n9lmnwMApjaCHwCAHCH4AQDIEYIfAIAc6RgcHtJLumXBfbd4GwCkOGn/BoA21TFuDI0clNW9q+wmuKDwo4J0/7nbrsEFXplcoUxcUiiYMummTFxCmbgnWiZ09QMAkCMEPwAAOULwAwCQIwQ/qpr0BwDQ3gj+ptPZ+cI32J3MXfqH5dkM9/nXYA9/x2B51r6eJOlzwVLp8wAA9xD8TebPzqdT8upyUJ6RVZNobe+X7XJETtm1JHG3+D0j/fbVdP3mneHPhRdu8wsA7YfgbzK9L/74xJQ8vbLW/LmvYnTH0db+Edkty01FIq3VH+1h8Jf55rtmkTwZ0Ks1V1cAAK1D8LeUP03vM1XOzed3wf9aFnpz7+t8fwvNWtKsfDpHf7GVHiyTb/HHzfEPAHAdwd8iw16reZVsN232jXZbJcE59yfkJRO8GvqBx7zO/JfMK/p6llMHpzK2+AEAUwvB3yJ+l7+e5d8g8zN2mwfn6pOm3Y173a9glC96n8bt3rP0oYHM+w8AUwvB32K9psXfb6Jau/wbIahg+It+r92Rzvvk0wz1nvcfANB6BH/Laaf7cllo15olfKle1oF+AID2R/A3md/1HnSv64j77ebvtRmG970aiupKyzrz7nTh1nz5QL9nQ1+r0lL5PgIAAHcQ/E3Wa2J2t6yyoanX9GvXe5ZR/f4AvmxLeOBfLfRKgazLtkz/egCAGwj+poteXsdlcQCA5iH4c0V7DcorGtrtz0A9AMgHgh8AgBwh+AEAyBGCHwCAHOkYHB4a1ycL7rvF2wAgxUn7NwC0qY5xY2jkoKzu1Zu4whWFHxWk+8/ddg0u8MrkCmXikkLBlEk3ZeISysQ90TKhqx8AgBwh+AEAyBGCHwCAHCH428pwhrvol987XyfkSZtCdzjDvf3L6dwB3KUfANoNwd9SGp7VhG5vyV30g8l1+ksm2q3PvfPDs/cVl1oqCAAAlxD8LaMz822ocUJcf6a+J+QlL+pfMs+qC+XSfoO46znK5+LXyYUAAO2O4G+ZXSb2+8smxE0XBLZ4kR/cX98P6ZfMM//VtG59X+nsewft1nSnzLJO1to1AEB7IvhbQs/Viwncdf5qZkFgx83oV5z1rxET7ozJr+WIiX2m8gGA9kbwt4AfohurPBfvd+9nW8q7/ffJ/NDrwZL19MCr8oR570vEPgC0PYK/6WoNUZ1S12/RF5eD8oxZDoa2+ItOvltUfr4+WPz39UbeX0orHKfkZ+YdxD4AtD+Cv8mGZYMsn1SIhgfmrZLtZlkV2qKnEOKl9RjEt/z9kf0a+vW5UgAA0HoEf1MNy37z5/aJwNVR/fvMn2mBHVU6MC+8VB6kV943oEv55/SKgw6ZbyK/XpcHAgDcQPA3Vel1+OOy2xvXv9s822bfUVnyLXzqN81SMFCQyAeAqYbgb0vxLXddslcgAAB5RPC3lA7YSxtYlyR8Vj+6pN1GN/5zTMgMAPlB8Led5HP8/pLUPR93VUCw1FL50K/HqQAAaDcEPwAAOULwAwCQIwQ/AAA50jE4PDSuT7Z88Ly3AQAATC1v9ulEbr6OcWNo5KBs/cN/tZvggn+6cFn+xexpdg0uoEzcQ5m4hzJxj5bJkU3/YNfo6gcAIFcIfgAAcoTgBwAgRzKc4z8vZx45IKN2zbdEFr++WK61a6Xi3h+yfo2s6J9jVzK6cFpOHpght0c/d+K4HH76mF0p1/XLdTJ/kV1pM5wncw9l4h7KxD2UiXui5/grBL8f4hINUC9wJSH89TNfyMzEikG5K0Mj8tGL0apCl9y2s0dmzzZPk4I/xbf79so3Swl+1A9l4h7KxD2UiXuqC34N+KNzY1voycFaffCX+14u7PhQ5PEKwU+LH01EmbiHMnEPZeKe6oK/5hZ/Sld/z0pZtnWBXGVX45mvseOS3Bi8Ly34Eyom7Y6dxz2UiXsoE/dQJu6pMvhVXJCnneMvVUuXu3b9F+RuuX31dH9DjS3+WVv6il+jzbDzuIcycQ9l4h7KxD01BH9W2j0/IJ+O2NUKEkNZQ/4Vke5wr0Cmc/z1OMXgDnYe91Am7qFM3EOZuCdb8GvQbj4kF+1qutAgvMnyvu93Mi8a3tHgb9W/r4nYedxDmbiHMnEPZeKebMEfS1v0n8nVW7O0qONb/2ld7/7I/hviTyFkavFPLew87qFM3EOZuIcycU91wV8yeC5r8CcMCLSVgYv3RMPfVhK6U67vTwj++MsAixjVj3qiTNxDmbiHMnFPNPjrf+e+C5fkUs9KubEscKfL7MdXirz/hVyxW3xm+9Z1NY3Mv2p1j6x43Xw25rF4vX0TAACYUEXwa0Bn6OafPUNmjBySP56w6xNMy/6VQyL3zK1wKR8AAGiUyl39NV0uV/05/lQ1nOPnzn2oN8rEPZSJeygT90S7+ut4OR/qiZ3HPZSJeygT91Am7okGP7PzAQCQIwQ/AAA5QvADAJAjHYPDQ+P6ZMsHz3sb4IazJ//GPoNL5t3+H+wzAGgfb/a9ZJ+Z4D96+p/Gv/rHEQb3Oebz94uFBHfcfM8T9hlcwEAy91Am7okO7iP4HRUEP0HjBsrDTYSMeygT90SDn3P8AADkCMEPAECO0NXvqPp1LfuTJpVMZbReJ0S6Ri7s+FDk8R6Z+bsRKcjdtd1VMScSy0PvKvmKSPfWBbG3otaJpKr+2Vb4mihK71aO+d2XJfEzgHri3h/i7Tfpdw/VO4Ye32NXEsRNHpY+4Vh7TS0eWyZxd4HtWSnL7O+4/v//eFNP295p1XXRrv744NcDz+ZRmRX7y5Y0yx7qKSloJj0jodkBT5671ZSdKWaCP7N6Bn9aOHi3tf7xFwR/RsnBnzBLqBdAkhD++pkvZGZixaBatiKRocKQTI+3/n7a1sEfFbkNO8HfWNHgp6u/zUxuRkJzEBn4Umb9mIBvposvDsjhR/bKGTtx1bX9Wl5rTDtOW5/2ubZ+zHMqX3Vy4gsvcMuCZNFis58ck2/KJhGrJw3rvabM/YrHsnknzPPj8q19NY4Gn/6OlD/K5zxpf+bn84ppWK6ptTKEyYoP/tkL5PbX26eGiSyCnpq7Q+U6Kp9u3pvag4DJ01a8VsxSWzMj38ll+xR1sGiudO05MFHZmmBa/Mf3LJGZiWVxTI7HBrB57DgdmVI8Slv4+t4BudznV8ZnHt3rtWRXvD5XvqnwdYLfk/LHVDoWxx2HfKNP+z+fsjJD3WXr6vfWD8lFfa1niWmpHJNLdPU3VC3n+BNnJLTn10pnR9QdkK7+rFK7+oN9I8q0OLW1F/uzDe9jErO/0dWfSXq3ctw5+7Rz/KXqMcNn1q8Rd0qoXSWVSXCaMmmMA139jRPt6s8Q/EENzYZGbIig3rIEf/SgEnuQSTynSfBXo5aKWCpTLmeOap/LXL9y8L7IjD574CupaBcHQKFcpvPJFfnHuKxd6vHHvsl9jSAUk7TT8ba8TOzPpjt5rAPB31jVB3+0NWILkcF9jVVb8I/ID2uCckI9pZdHXMuyKO6g7ZfV3SKvaFhoK3SufLPjktyoIU+LP7OykAlXmipqr9Hy7aI+lTHUU/XBf768xaiBc3Yewd9I1Qd/sQUfdyCbSi2KVqi1xa8/97LeFN2/ghHNpuXvX2UxvdjqmUPwZ5UtZHTf+Eyu3pqliz++5V7d/lHF17A9qNlkP03RSkllEm7Vl7Twqeg2XPXBT4u/JWpp8dcqNpxQon4t/nAFTT8XvnzMvtbXJRcHOBBmkRj8GqhH59quZf25Zgl+vxzLLgGs6pjnv1cH91X9NUr+zSr6+9EeCH73RIO/8uV8s+fKrJ5R+fTAeX/9whdyccpdXtIGdOcIRgXbh14LHoyELX2MyIUL9nNokuDSvPJH6YF+uszeGlSi58j8koO6fY2rnFrjwiW51LNSbiyrSJtyeXylyPtfVBjVb+jxUVK+xtnv7Ho+BcercO/jld+NmkwZlW84ZjVNhuv49WC0xrs0xguVzd/JjIrXi6PuvEss44Ol/BEECwD/GJah1Tx7hswYOSR/LLuczLTWXzkkcs/cyi1SbSjJISkMfW83BOzXmHeNXc8nHdGvx6hlW7r8DSeOy0fvd8myX94gn75S6XJJ1Et8Vz9artZzyrWgq7+yyXT1Vz0yn67PzFK7+lPOnSefs/e75Btxjj/LXTWneld/uKXftWWlXHrxO5kX/P/0/z9wDVexNEC0q5/gd1Qzgx/p/vW/uk8evPGv5Ke3Xm32mH+Wj8f+IG+d/gf5X3/4v/YdaJXE4EfLUCbuiQY/t+wFUvzHn/yl/Luux2XH//xcuv79/5Ouv/yt/JdXO7xt+hoAtBuCH0igLf1l166S+7f9owz85mv50w//7D30uW7T1/Q9ANBO6Op3VNDVj9b5+7+6wWvpa9DH6fvpdfKfHhuXTYP/2W5Bs9Gt7B7KxD3Rrv6OweGhcX2y5YPnvQ1ww9mTf2OfoVVO/eomr3tfW/lx/uXVfyGj/+Mu6fnv/8ZuAQA3vdlXbEx2jBtDIwdp8TuGWnPrDf3bN7xz+qnB/7d3yeq/f9huQbOxn7iHMnFPtMXPOX4ggY7eX7s0+UIqfU3fAwDthOAHEugle9seucFr2UfpNn1N3wMA7YTgBxLodfoffXtQ3nv2Fm8gn4a9PvS5btPXuJYfQLsh+IEU/+3jv5W/G33FG72vA/n0nL4+1236GgC0Gwb3tVDa9MYMkGmNasuk7Dakkduyhl+P3vZVv5dOtOSLzg1fehvgzLeM9W5VWzqNdlH8rWTLv3f7YD9pDY5dDZJw2+LwsaKaY0yAwX2OKD3owwVVl4nZST968YbirHy/XCKjT4dmRrxwWgoviglV89rOlSIvfjjxmu6sxwsrZZn97LItIp9uPi7feq9qQB+QS2Yn9r6u99kBOVM2eUyUqSykzu2uk9XYf6t9LNYJt9YvYlInZMaxq0G8SnvM/mu2H99jZ//0jjHBccJIOcakIfibTltyZscpLJGuHrsJLVZjmSxabMIz1LJeNNe0nUflsp3B2ptutKdLZmqozl4g89ab9d/5s7ZdtbpHVoRq9Vf9uEtmyZfyg7fT+gE9UXP3psYWuXQuOuNbqStDJ+SS+X6ZBQeUiUlhgDQcuxpFK1OHn/5SutaX77/fHjWVgfVz/ePMolvltp5j8o1tBKQdY9IQ/C0wU6em3Hqr0BnmjkaUyeWzoyLdM0q67C7WMh+7zvE+YioGP07p6tea//td0t13g91QyfdyYeCYzNpya1vN/IbW4tjVIEvXmEZEj9w4z65P+F5+KIjMikznHDQCaj3GEPxNN0euTZuaEy1QnzLRFveoLJGZoa8V3mGnzUtujX974FCx5j5Bu/xNS2Czea1Cd7x+fkZfFdOZnvhMPh1ZIvOyjBsAPBy7GuXaRem9bjNuCvbT6XJ1t31qZT3GhBH8QD145/tHpeuX1c+d7p3v39Mltz0eDe7gnHyf3FY4IIf32XMIUdplL2vS53qPKOk+BJArBD8wWXZQTnS0rQp3u3ndchH+iFwdnJM2qt5UAPqWiOz5ojioZ4J22X8pt62p5jy9333YtZRz+0A7KI7v8ffdsErHmDgEPzAZXuib4N1ZHvpx3W7hbjk/9PWqgMqX0l0596VIzzXl51a98/+j8unmvXL4ER0gpKOCj8nxR0JXF0TZMQPTyH3AceVd+yro+q90jElC8AO1unBaTnot/fjg9kbq7znhB7B579k9oQF63qkBbeknXW+/V04OBbX88/LHF0dl1j1zy8/hz14gt4cuz9PLfUT00p+UysT572LGEwBw0bVLl8jFFz/ze/vs2JxgHFHqMSYFwQ/UyLuUxvw9+rRtbdvHRGCbUO72rs832zcfEtly90QYe+fYJdRStw//Wn09t79GZrw4YLcfkNH1a0I35tDLqlJa9CXK3+v1HgBoD4sWy+L12otnjgVeQyPUWEg5xqThzn2O4u5X7qFM3EOZuIcycQ937gMAIMcIfgAAcoTgBwAgRwh+AABypGNweGhcn2z54HlvAwAAmFre7HvJPmNUv7MYGeseysQ9lIl7KBP3MKofAIAcI/gBAMgRgh8AgBwh+AEAyBEG9zWd3jv9gExMntizUpZtjc7DzgCZVvl23145O68vdF/8orgy8WfYK06FGZ2aN/z6rC2lX1e/1/E9dkW6IlPzlv6eRD+byJstUGTx60mT/wzIpyN2dUL0e7cP9pMW0QmqNo/KrJjfG8qkzryf9SFvXhDP+jWyor84tWbaMSbA4L6W0gPvAblkCsefTa1PbpND8tG+8/Z1tFJpEGfgzbCn0+oWZ8YbfTo0IY7ZYQveDHzmtZ0rRV78cOI13VmPF0ylz352mTfRxnE7337k98T77ICdwCeNqSx40/Im0cl/7L/VPhavN5vXL2rL0EermN/PV0JBhAYy+7QJ/RmmQeHvs2uka8+B4kRgKceYNAR/U/kH3mKNbLrMvKdLpHBJrtgtaAVtXZvQLyyRrh67KYtFi82OGGpZL5pr2s6jctnW47zZ+4Lpb2cvkHnrzfrv/B32qtU9siLU0+NNrylfyg/eThv5PZk9V2aZf9elc8E0vfGuDJ2QS+b7ZWYqLsf3LJHFodYDUJFODWt+02fZVTTSHJlvAr/YizhHZprK+sWz33lraceYNAQ/YMzUGvXWW6WeHZSXz46KdM8oOY0T7LBVufCFXBypMM+21vzf75LuvhvshkpMq23gmMzacmvMKQEgifYqiSx+vIoKJhqm1mMMwd9S5+WPL47KrHvmlp3jRzPNkWtD5+VrpS3uUVkiM0Nfa9a8a+wzkWnzkg+W3x44VKy5T9Auf3+e7YsVuuP18zP6yseKJNJW28gSmZdl3ABgeb1KVBZbx1Twz+4R6Vpa7KXLeowJI/hbxj+PO9qzUro5+LY/73z/qHT9Mm5QXTrvfP+eLrnt8WhwB+fk++S2wgE5nDQWRLvsZU3JoMJKvj16TGT9XA7gyC7oVeJ41SL++f6L66vb1+MQ/C2hoT8gn0r8iH60GW8k/bGyEf0q3O3mdctF+CNydXBO2qh6UwHoWyKy5ws7+C9Mu+y/lNvWVHOe/nv5oVDaagAqqbpXCXWk45BMQzEyol9VOsbEIfibzoZ+tylAQr/9eaFvgndneejHdbuFu+X80NerAipfSnfl3JciPdeUj0Hwzv+Pyqeb98rhR8zDG9V/TI4/Erq6IMqOGZhG7iOz8/LNHpHRp+3vmXd5mf97V/lqE0yOH/reVT6R0K90jElC8DfZt/tsS5+R1O3vwmk56bX044PbG6m/54QfwN65udAAPe/UgLb0k66331u8ZCdtLMjsBXJ76PI8vaRQZEl6ZeL8dzHjCYA0/ujyid+znStllnf/h/IKL+rJnhI2Lf246/NTjzEpuIFPU9nuGrtWpAfq0gDgJhit4PfGXLwn2w18wjfOCAvfRCP8nvD2pHsGFE8XRH5XSrr49LUTMi3u9IDXAxG+gU/5e71/0/tdU+I0E/tJi2illxv4NJ73c465Z0Loxm9Jx5iw6A18CH5HsfO4hzJxD2XiHsrEPdHgp6sfAIAcIfgBAMgRgh8AgBwh+AEAyJGOweGhcX2y5YPnvQ0AAGBqebPvJfuMUf3OYmSseygT91Am7qFM3MOofgAAcozgBwAgRwh+AAByhOAHACBHCP6m8ydg8Wa40kfSHOsAADQAwd9k3ux8OiWvN8vVGunacyA0CxsAAI1F8DfZtf0m8CdmWZsjM9eLXDz7nV0HAKCxCP6WOi/f7BHpWsrc/ACA5iD4W0TnYz+s8633rJQbvfnXAQBoPIK/Rbwu/9fXyeLuQ/LRjtNyxW4HAKCRCP4Wu3bNSpk1MirfXLAbAABoIIK/1c5/JxflBrl6tl0HAKCBCP4m887tT1y7/71cGDgmsn6uXGu3AADQSAR/k13b3ye3FQ7YG/gMyKeyUpZNXN4HAEBjEfxNN11mb/UH9nmPrQvkKvsKAACNRvADAJAjBD8AADlC8AMAkCMEPwAAOdIxODw0rk+2fPC8twEAAEwtb/a9ZJ+Z4B83hkYOyuqeVXYTXFAoFKS7u9uuwQWUiXsoE/dQJu6Jlgld/QAA5IbI/weA2gix3kqYxgAAAABJRU5ErkJggg==)\n",
        "\n",
        "### https://mangkyu.tistory.com/110"
      ],
      "metadata": {
        "id": "WSztt4hk3uRm"
      }
    },
    {
      "cell_type": "markdown",
      "source": [
        "# 다음주 월요일에는 미니 프로젝트를 위한 팀을 구성하려고 합니다.\n",
        "- 간단한 성향 테스트를 해서 비슷한 성향으로 팀을 구성할 계획입니다.\n",
        "- 이미 팀을 구성하신분은 알려주시고\n",
        "- 하고자 하는 주제 등이 있으면 말씀해 주세요\n",
        "- 자유 주제이나 거창한 결과물보다는 충실한 팀프로젝트 수행을 목적으로 하면 좋겠습니다."
      ],
      "metadata": {
        "id": "DQYXDy9T2_Sx"
      }
    },
    {
      "cell_type": "code",
      "source": [],
      "metadata": {
        "id": "1IWsRApgS0cG"
      },
      "execution_count": null,
      "outputs": []
    },
    {
      "cell_type": "code",
      "source": [],
      "metadata": {
        "id": "yFzOWhwF299a"
      },
      "execution_count": null,
      "outputs": []
    }
  ]
}