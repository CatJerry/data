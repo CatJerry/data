{
  "nbformat": 4,
  "nbformat_minor": 0,
  "metadata": {
    "colab": {
      "provenance": []
    },
    "kernelspec": {
      "name": "python3",
      "display_name": "Python 3"
    },
    "language_info": {
      "name": "python"
    }
  },
  "cells": [
    {
      "cell_type": "markdown",
      "source": [
        "# 오늘의 미션\n",
        "\n",
        "- 병원 관련 프로그램 아이디어\n",
        "- 아이디어 토의\n",
        "- 아이디어 결정\n",
        "- class를 사용하여 개발\n",
        "- 데이터 수집 공부 - api\n",
        "- 프로토 타입 개발 tip"
      ],
      "metadata": {
        "id": "2TtBxpGo7IR4"
      }
    },
    {
      "cell_type": "markdown",
      "source": [
        "# 로또 api를 이용한 로또번호 가져오기\n",
        "- requests 라이브러리 이용"
      ],
      "metadata": {
        "id": "5Z-UPdwtWCrF"
      }
    },
    {
      "cell_type": "markdown",
      "source": [
        "python -m pip install requests"
      ],
      "metadata": {
        "id": "D4tzZ_OHYmsu"
      }
    },
    {
      "cell_type": "code",
      "source": [
        "# 로또번호 호출\n",
        "# 응답 받고\n",
        "# 데이터 처리\n",
        "import requests\n",
        "url = 'https://www.dhlottery.co.kr/common.do?method=getLottoNumber&drwNo=100'"
      ],
      "metadata": {
        "id": "gtLvbqfnWBwW"
      },
      "execution_count": null,
      "outputs": []
    },
    {
      "cell_type": "code",
      "source": [
        "response = requests.get(url)"
      ],
      "metadata": {
        "id": "LpUDe7ZBWNAW"
      },
      "execution_count": null,
      "outputs": []
    },
    {
      "cell_type": "code",
      "source": [
        "output = response.json()"
      ],
      "metadata": {
        "id": "VEymVm3HWijd"
      },
      "execution_count": null,
      "outputs": []
    },
    {
      "cell_type": "code",
      "source": [
        "output"
      ],
      "metadata": {
        "colab": {
          "base_uri": "https://localhost:8080/"
        },
        "id": "cc5Q1nOLXIeO",
        "outputId": "7f1945f0-bc7b-4952-ee99-c5aeb6b21f26"
      },
      "execution_count": null,
      "outputs": [
        {
          "output_type": "execute_result",
          "data": {
            "text/plain": [
              "{'totSellamnt': 56561977000,\n",
              " 'returnValue': 'success',\n",
              " 'drwNoDate': '2004-10-30',\n",
              " 'firstWinamnt': 3315315525,\n",
              " 'drwtNo6': 42,\n",
              " 'drwtNo4': 23,\n",
              " 'firstPrzwnerCo': 4,\n",
              " 'drwtNo5': 37,\n",
              " 'bnusNo': 6,\n",
              " 'firstAccumamnt': 0,\n",
              " 'drwNo': 100,\n",
              " 'drwtNo2': 7,\n",
              " 'drwtNo3': 11,\n",
              " 'drwtNo1': 1}"
            ]
          },
          "metadata": {},
          "execution_count": 9
        }
      ]
    },
    {
      "cell_type": "markdown",
      "source": [
        "# 로또 가게 아저씨\n",
        "## 손님이 와서 회차에 따른 당첨번호 문의\n",
        "## ....랜덤 로또 발행?\n",
        "\n",
        "### 클래스의 사용예"
      ],
      "metadata": {
        "id": "ituSojNApTdJ"
      }
    },
    {
      "cell_type": "code",
      "source": [
        "# 회차 정보를 통해서 로또 번호를 받는 함수\n",
        "def lotto_api(num):\n",
        "  url = f'https://www.dhlottery.co.kr/common.do?method=getLottoNumber&drwNo={num}'\n",
        "  response = requests.get(url)\n",
        "  output = response.json()\n",
        "  return output"
      ],
      "metadata": {
        "id": "9afPfzejqa3Q"
      },
      "execution_count": null,
      "outputs": []
    },
    {
      "cell_type": "code",
      "source": [
        "class LottoData:\n",
        "  def __init__(self, data:dict):\n",
        "    self.data = data\n",
        "    # 회차정보랑 로또번호를 세팅\n",
        "    self.make_data()\n",
        "\n",
        "  # drwNoDate, drwtNo1~6\n",
        "  def make_data(self):\n",
        "    self.drwNoDate = self.data['drwNoDate']\n",
        "    self.numbers = [self.data[f'drwtNo{i}']  for i in range(1, 7)    ]"
      ],
      "metadata": {
        "id": "pSi3TC2Oq7qC"
      },
      "execution_count": null,
      "outputs": []
    },
    {
      "cell_type": "code",
      "source": [
        "class LottoMan:\n",
        "  def __init__(self):\n",
        "    self.shop_name = '우리동네 로또가게'\n",
        "  def answer_lotto_numbers(self, num):\n",
        "    # api 활용해서 응답을 받고 대답\n",
        "    output = lotto_api(num) # output : dict\n",
        "    ld = LottoData(output)\n",
        "    print('응답',ld.numbers)\n",
        "    return output"
      ],
      "metadata": {
        "id": "4bnzUn8BdkvS"
      },
      "execution_count": null,
      "outputs": []
    },
    {
      "cell_type": "code",
      "source": [
        "lot = LottoMan()\n",
        "output = lot.answer_lotto_numbers(50)"
      ],
      "metadata": {
        "colab": {
          "base_uri": "https://localhost:8080/"
        },
        "id": "CSxDn3Zap-iq",
        "outputId": "12ff304c-b6d6-40de-d76e-8ce8cbc51501"
      },
      "execution_count": null,
      "outputs": [
        {
          "output_type": "stream",
          "name": "stdout",
          "text": [
            "응답 [2, 10, 12, 15, 22, 44]\n"
          ]
        }
      ]
    },
    {
      "cell_type": "code",
      "source": [
        "ld = LottoData(output)"
      ],
      "metadata": {
        "id": "bD3KXE_MsRX6"
      },
      "execution_count": null,
      "outputs": []
    },
    {
      "cell_type": "code",
      "source": [
        "ld.numbers"
      ],
      "metadata": {
        "colab": {
          "base_uri": "https://localhost:8080/"
        },
        "id": "-5oCkHktsV8b",
        "outputId": "f325c02d-1480-41d5-f141-97c8fa2534ec"
      },
      "execution_count": null,
      "outputs": [
        {
          "output_type": "execute_result",
          "data": {
            "text/plain": [
              "[2, 10, 12, 15, 22, 44]"
            ]
          },
          "metadata": {},
          "execution_count": 28
        }
      ]
    },
    {
      "cell_type": "code",
      "source": [
        "import requests as re\n",
        "\n",
        "class Lottory:\n",
        "\n",
        "    def __init__(self):\n",
        "        self.num = self.inputCh()\n",
        "        print(self.num)\n",
        "        Lolist = []\n",
        "\n",
        "\n",
        "    def inputCh(self):\n",
        "        tempNum = int(input(\"insert number : \"))\n",
        "        return tempNum\n",
        "\n",
        "    def prin(self):\n",
        "        print(self.num)\n",
        "\n",
        "\n",
        "\n",
        "lo = Lottory()\n",
        "lo.prin()"
      ],
      "metadata": {
        "colab": {
          "base_uri": "https://localhost:8080/"
        },
        "id": "Is8O8Uo3uhkQ",
        "outputId": "ef97e2b3-ba10-4cd6-caf0-2dbd8f40ae57"
      },
      "execution_count": null,
      "outputs": [
        {
          "output_type": "stream",
          "name": "stdout",
          "text": [
            "insert number : 12\n",
            "12\n",
            "12\n",
            "12\n"
          ]
        }
      ]
    },
    {
      "cell_type": "code",
      "source": [
        "#회차별 정보를 가져오는 class\n",
        "import requests\n",
        "# from tqdm.notebook import tqdm\n",
        "from tqdm import tqdm\n",
        "class DrwNo:\n",
        "    def __init__(self, num):\n",
        "        self.num = num\n",
        "        self.url = f'http://www.dhlottery.co.kr/common.do?method=getLottoNumber&drwNo={self.num}'\n",
        "        self.response = requests.get(self.url)\n",
        "        self.output = self.response.json()        \n",
        "        self.num_list = [self.output.get(f'drwtNo{i}') for i in range(1, 7)]\n",
        "        self.bnus_num = self.output.get('bnusNo')\n",
        "        self.num_list.append(self.bnus_num)\n",
        "count_num = [] #당첨번호가 몇번씩 나왔는지 세는 리스트\n",
        "for i in range(1,46):\n",
        "    count_num += [0]\n",
        "\n",
        "real_num = [] #역대 나온 당첨번호가 담겨있는 리스트\n",
        "for i in tqdm(range(1,1061)): #어느 회차까지 찾을 건지\n",
        "    a = DrwNo(i) #a = i 회차 당첨 정보\n",
        "    real_num +=(a.num_list) # real_num = i회차에 당첨 번호 리스트 합\n",
        "\n",
        "for i in real_num:\n",
        "    count_num[i-1] += 1\n",
        "print(count_num)\n",
        "lst = count_num\n",
        "sorted_lst = sorted(lst)\n",
        "smallest = sorted_lst[:7]\n",
        "\n",
        "# 가장 작은 7개의 수가 원래 리스트에서 어디에 위치하는지 찾습니다.\n",
        "indices = []\n",
        "for num in smallest:\n",
        "    index = lst.index(num)\n",
        "    indices.append(index+1)\n",
        "    # 같은 수가 두 번 이상 등장할 경우, 이미 찾은 위치는 건너뜁니다.\n",
        "    while sorted_lst.count(num) > 1:\n",
        "        sorted_lst.remove(num)\n",
        "        lst.remove(num+1)\n",
        "\n",
        "print(\"다음 회차 행운의 번호 7개를 알려드리겠습니다.:\")\n",
        "print(indices)"
      ],
      "metadata": {
        "colab": {
          "base_uri": "https://localhost:8080/",
          "height": 411
        },
        "id": "oVo_sxrqzP-S",
        "outputId": "fee20b1e-6a40-44aa-ffa4-d078783155b1"
      },
      "execution_count": null,
      "outputs": [
        {
          "output_type": "stream",
          "name": "stderr",
          "text": [
            "  2%|▏         | 21/1060 [00:19<16:18,  1.06it/s]\n"
          ]
        },
        {
          "output_type": "error",
          "ename": "KeyboardInterrupt",
          "evalue": "ignored",
          "traceback": [
            "\u001b[0;31m---------------------------------------------------------------------------\u001b[0m",
            "\u001b[0;31mKeyboardInterrupt\u001b[0m                         Traceback (most recent call last)",
            "\u001b[0;32m<ipython-input-48-78c74dc5f6a1>\u001b[0m in \u001b[0;36m<cell line: 19>\u001b[0;34m()\u001b[0m\n\u001b[1;32m     18\u001b[0m \u001b[0mreal_num\u001b[0m \u001b[0;34m=\u001b[0m \u001b[0;34m[\u001b[0m\u001b[0;34m]\u001b[0m \u001b[0;31m#역대 나온 당첨번호가 담겨있는 리스트\u001b[0m\u001b[0;34m\u001b[0m\u001b[0;34m\u001b[0m\u001b[0m\n\u001b[1;32m     19\u001b[0m \u001b[0;32mfor\u001b[0m \u001b[0mi\u001b[0m \u001b[0;32min\u001b[0m \u001b[0mtqdm\u001b[0m\u001b[0;34m(\u001b[0m\u001b[0mrange\u001b[0m\u001b[0;34m(\u001b[0m\u001b[0;36m1\u001b[0m\u001b[0;34m,\u001b[0m\u001b[0;36m1061\u001b[0m\u001b[0;34m)\u001b[0m\u001b[0;34m)\u001b[0m\u001b[0;34m:\u001b[0m \u001b[0;31m#어느 회차까지 찾을 건지\u001b[0m\u001b[0;34m\u001b[0m\u001b[0;34m\u001b[0m\u001b[0m\n\u001b[0;32m---> 20\u001b[0;31m     \u001b[0ma\u001b[0m \u001b[0;34m=\u001b[0m \u001b[0mDrwNo\u001b[0m\u001b[0;34m(\u001b[0m\u001b[0mi\u001b[0m\u001b[0;34m)\u001b[0m \u001b[0;31m#a = i 회차 당첨 정보\u001b[0m\u001b[0;34m\u001b[0m\u001b[0;34m\u001b[0m\u001b[0m\n\u001b[0m\u001b[1;32m     21\u001b[0m     \u001b[0mreal_num\u001b[0m \u001b[0;34m+=\u001b[0m\u001b[0;34m(\u001b[0m\u001b[0ma\u001b[0m\u001b[0;34m.\u001b[0m\u001b[0mnum_list\u001b[0m\u001b[0;34m)\u001b[0m \u001b[0;31m# real_num = i회차에 당첨 번호 리스트 합\u001b[0m\u001b[0;34m\u001b[0m\u001b[0;34m\u001b[0m\u001b[0m\n\u001b[1;32m     22\u001b[0m \u001b[0;34m\u001b[0m\u001b[0m\n",
            "\u001b[0;32m<ipython-input-48-78c74dc5f6a1>\u001b[0m in \u001b[0;36m__init__\u001b[0;34m(self, num)\u001b[0m\n\u001b[1;32m      7\u001b[0m         \u001b[0mself\u001b[0m\u001b[0;34m.\u001b[0m\u001b[0mnum\u001b[0m \u001b[0;34m=\u001b[0m \u001b[0mnum\u001b[0m\u001b[0;34m\u001b[0m\u001b[0;34m\u001b[0m\u001b[0m\n\u001b[1;32m      8\u001b[0m         \u001b[0mself\u001b[0m\u001b[0;34m.\u001b[0m\u001b[0murl\u001b[0m \u001b[0;34m=\u001b[0m \u001b[0;34mf'http://www.dhlottery.co.kr/common.do?method=getLottoNumber&drwNo={self.num}'\u001b[0m\u001b[0;34m\u001b[0m\u001b[0;34m\u001b[0m\u001b[0m\n\u001b[0;32m----> 9\u001b[0;31m         \u001b[0mself\u001b[0m\u001b[0;34m.\u001b[0m\u001b[0mresponse\u001b[0m \u001b[0;34m=\u001b[0m \u001b[0mrequests\u001b[0m\u001b[0;34m.\u001b[0m\u001b[0mget\u001b[0m\u001b[0;34m(\u001b[0m\u001b[0mself\u001b[0m\u001b[0;34m.\u001b[0m\u001b[0murl\u001b[0m\u001b[0;34m)\u001b[0m\u001b[0;34m\u001b[0m\u001b[0;34m\u001b[0m\u001b[0m\n\u001b[0m\u001b[1;32m     10\u001b[0m         \u001b[0mself\u001b[0m\u001b[0;34m.\u001b[0m\u001b[0moutput\u001b[0m \u001b[0;34m=\u001b[0m \u001b[0mself\u001b[0m\u001b[0;34m.\u001b[0m\u001b[0mresponse\u001b[0m\u001b[0;34m.\u001b[0m\u001b[0mjson\u001b[0m\u001b[0;34m(\u001b[0m\u001b[0;34m)\u001b[0m\u001b[0;34m\u001b[0m\u001b[0;34m\u001b[0m\u001b[0m\n\u001b[1;32m     11\u001b[0m         \u001b[0mself\u001b[0m\u001b[0;34m.\u001b[0m\u001b[0mnum_list\u001b[0m \u001b[0;34m=\u001b[0m \u001b[0;34m[\u001b[0m\u001b[0mself\u001b[0m\u001b[0;34m.\u001b[0m\u001b[0moutput\u001b[0m\u001b[0;34m.\u001b[0m\u001b[0mget\u001b[0m\u001b[0;34m(\u001b[0m\u001b[0;34mf'drwtNo{i}'\u001b[0m\u001b[0;34m)\u001b[0m \u001b[0;32mfor\u001b[0m \u001b[0mi\u001b[0m \u001b[0;32min\u001b[0m \u001b[0mrange\u001b[0m\u001b[0;34m(\u001b[0m\u001b[0;36m1\u001b[0m\u001b[0;34m,\u001b[0m \u001b[0;36m7\u001b[0m\u001b[0;34m)\u001b[0m\u001b[0;34m]\u001b[0m\u001b[0;34m\u001b[0m\u001b[0;34m\u001b[0m\u001b[0m\n",
            "\u001b[0;32m/usr/local/lib/python3.9/dist-packages/requests/api.py\u001b[0m in \u001b[0;36mget\u001b[0;34m(url, params, **kwargs)\u001b[0m\n\u001b[1;32m     73\u001b[0m     \"\"\"\n\u001b[1;32m     74\u001b[0m \u001b[0;34m\u001b[0m\u001b[0m\n\u001b[0;32m---> 75\u001b[0;31m     \u001b[0;32mreturn\u001b[0m \u001b[0mrequest\u001b[0m\u001b[0;34m(\u001b[0m\u001b[0;34m'get'\u001b[0m\u001b[0;34m,\u001b[0m \u001b[0murl\u001b[0m\u001b[0;34m,\u001b[0m \u001b[0mparams\u001b[0m\u001b[0;34m=\u001b[0m\u001b[0mparams\u001b[0m\u001b[0;34m,\u001b[0m \u001b[0;34m**\u001b[0m\u001b[0mkwargs\u001b[0m\u001b[0;34m)\u001b[0m\u001b[0;34m\u001b[0m\u001b[0;34m\u001b[0m\u001b[0m\n\u001b[0m\u001b[1;32m     76\u001b[0m \u001b[0;34m\u001b[0m\u001b[0m\n\u001b[1;32m     77\u001b[0m \u001b[0;34m\u001b[0m\u001b[0m\n",
            "\u001b[0;32m/usr/local/lib/python3.9/dist-packages/requests/api.py\u001b[0m in \u001b[0;36mrequest\u001b[0;34m(method, url, **kwargs)\u001b[0m\n\u001b[1;32m     59\u001b[0m     \u001b[0;31m# cases, and look like a memory leak in others.\u001b[0m\u001b[0;34m\u001b[0m\u001b[0;34m\u001b[0m\u001b[0m\n\u001b[1;32m     60\u001b[0m     \u001b[0;32mwith\u001b[0m \u001b[0msessions\u001b[0m\u001b[0;34m.\u001b[0m\u001b[0mSession\u001b[0m\u001b[0;34m(\u001b[0m\u001b[0;34m)\u001b[0m \u001b[0;32mas\u001b[0m \u001b[0msession\u001b[0m\u001b[0;34m:\u001b[0m\u001b[0;34m\u001b[0m\u001b[0;34m\u001b[0m\u001b[0m\n\u001b[0;32m---> 61\u001b[0;31m         \u001b[0;32mreturn\u001b[0m \u001b[0msession\u001b[0m\u001b[0;34m.\u001b[0m\u001b[0mrequest\u001b[0m\u001b[0;34m(\u001b[0m\u001b[0mmethod\u001b[0m\u001b[0;34m=\u001b[0m\u001b[0mmethod\u001b[0m\u001b[0;34m,\u001b[0m \u001b[0murl\u001b[0m\u001b[0;34m=\u001b[0m\u001b[0murl\u001b[0m\u001b[0;34m,\u001b[0m \u001b[0;34m**\u001b[0m\u001b[0mkwargs\u001b[0m\u001b[0;34m)\u001b[0m\u001b[0;34m\u001b[0m\u001b[0;34m\u001b[0m\u001b[0m\n\u001b[0m\u001b[1;32m     62\u001b[0m \u001b[0;34m\u001b[0m\u001b[0m\n\u001b[1;32m     63\u001b[0m \u001b[0;34m\u001b[0m\u001b[0m\n",
            "\u001b[0;32m/usr/local/lib/python3.9/dist-packages/requests/sessions.py\u001b[0m in \u001b[0;36mrequest\u001b[0;34m(self, method, url, params, data, headers, cookies, files, auth, timeout, allow_redirects, proxies, hooks, stream, verify, cert, json)\u001b[0m\n\u001b[1;32m    527\u001b[0m         }\n\u001b[1;32m    528\u001b[0m         \u001b[0msend_kwargs\u001b[0m\u001b[0;34m.\u001b[0m\u001b[0mupdate\u001b[0m\u001b[0;34m(\u001b[0m\u001b[0msettings\u001b[0m\u001b[0;34m)\u001b[0m\u001b[0;34m\u001b[0m\u001b[0;34m\u001b[0m\u001b[0m\n\u001b[0;32m--> 529\u001b[0;31m         \u001b[0mresp\u001b[0m \u001b[0;34m=\u001b[0m \u001b[0mself\u001b[0m\u001b[0;34m.\u001b[0m\u001b[0msend\u001b[0m\u001b[0;34m(\u001b[0m\u001b[0mprep\u001b[0m\u001b[0;34m,\u001b[0m \u001b[0;34m**\u001b[0m\u001b[0msend_kwargs\u001b[0m\u001b[0;34m)\u001b[0m\u001b[0;34m\u001b[0m\u001b[0;34m\u001b[0m\u001b[0m\n\u001b[0m\u001b[1;32m    530\u001b[0m \u001b[0;34m\u001b[0m\u001b[0m\n\u001b[1;32m    531\u001b[0m         \u001b[0;32mreturn\u001b[0m \u001b[0mresp\u001b[0m\u001b[0;34m\u001b[0m\u001b[0;34m\u001b[0m\u001b[0m\n",
            "\u001b[0;32m/usr/local/lib/python3.9/dist-packages/requests/sessions.py\u001b[0m in \u001b[0;36msend\u001b[0;34m(self, request, **kwargs)\u001b[0m\n\u001b[1;32m    665\u001b[0m             \u001b[0;31m# Redirect resolving generator.\u001b[0m\u001b[0;34m\u001b[0m\u001b[0;34m\u001b[0m\u001b[0m\n\u001b[1;32m    666\u001b[0m             \u001b[0mgen\u001b[0m \u001b[0;34m=\u001b[0m \u001b[0mself\u001b[0m\u001b[0;34m.\u001b[0m\u001b[0mresolve_redirects\u001b[0m\u001b[0;34m(\u001b[0m\u001b[0mr\u001b[0m\u001b[0;34m,\u001b[0m \u001b[0mrequest\u001b[0m\u001b[0;34m,\u001b[0m \u001b[0;34m**\u001b[0m\u001b[0mkwargs\u001b[0m\u001b[0;34m)\u001b[0m\u001b[0;34m\u001b[0m\u001b[0;34m\u001b[0m\u001b[0m\n\u001b[0;32m--> 667\u001b[0;31m             \u001b[0mhistory\u001b[0m \u001b[0;34m=\u001b[0m \u001b[0;34m[\u001b[0m\u001b[0mresp\u001b[0m \u001b[0;32mfor\u001b[0m \u001b[0mresp\u001b[0m \u001b[0;32min\u001b[0m \u001b[0mgen\u001b[0m\u001b[0;34m]\u001b[0m\u001b[0;34m\u001b[0m\u001b[0;34m\u001b[0m\u001b[0m\n\u001b[0m\u001b[1;32m    668\u001b[0m         \u001b[0;32melse\u001b[0m\u001b[0;34m:\u001b[0m\u001b[0;34m\u001b[0m\u001b[0;34m\u001b[0m\u001b[0m\n\u001b[1;32m    669\u001b[0m             \u001b[0mhistory\u001b[0m \u001b[0;34m=\u001b[0m \u001b[0;34m[\u001b[0m\u001b[0;34m]\u001b[0m\u001b[0;34m\u001b[0m\u001b[0;34m\u001b[0m\u001b[0m\n",
            "\u001b[0;32m/usr/local/lib/python3.9/dist-packages/requests/sessions.py\u001b[0m in \u001b[0;36m<listcomp>\u001b[0;34m(.0)\u001b[0m\n\u001b[1;32m    665\u001b[0m             \u001b[0;31m# Redirect resolving generator.\u001b[0m\u001b[0;34m\u001b[0m\u001b[0;34m\u001b[0m\u001b[0m\n\u001b[1;32m    666\u001b[0m             \u001b[0mgen\u001b[0m \u001b[0;34m=\u001b[0m \u001b[0mself\u001b[0m\u001b[0;34m.\u001b[0m\u001b[0mresolve_redirects\u001b[0m\u001b[0;34m(\u001b[0m\u001b[0mr\u001b[0m\u001b[0;34m,\u001b[0m \u001b[0mrequest\u001b[0m\u001b[0;34m,\u001b[0m \u001b[0;34m**\u001b[0m\u001b[0mkwargs\u001b[0m\u001b[0;34m)\u001b[0m\u001b[0;34m\u001b[0m\u001b[0;34m\u001b[0m\u001b[0m\n\u001b[0;32m--> 667\u001b[0;31m             \u001b[0mhistory\u001b[0m \u001b[0;34m=\u001b[0m \u001b[0;34m[\u001b[0m\u001b[0mresp\u001b[0m \u001b[0;32mfor\u001b[0m \u001b[0mresp\u001b[0m \u001b[0;32min\u001b[0m \u001b[0mgen\u001b[0m\u001b[0;34m]\u001b[0m\u001b[0;34m\u001b[0m\u001b[0;34m\u001b[0m\u001b[0m\n\u001b[0m\u001b[1;32m    668\u001b[0m         \u001b[0;32melse\u001b[0m\u001b[0;34m:\u001b[0m\u001b[0;34m\u001b[0m\u001b[0;34m\u001b[0m\u001b[0m\n\u001b[1;32m    669\u001b[0m             \u001b[0mhistory\u001b[0m \u001b[0;34m=\u001b[0m \u001b[0;34m[\u001b[0m\u001b[0;34m]\u001b[0m\u001b[0;34m\u001b[0m\u001b[0;34m\u001b[0m\u001b[0m\n",
            "\u001b[0;32m/usr/local/lib/python3.9/dist-packages/requests/sessions.py\u001b[0m in \u001b[0;36mresolve_redirects\u001b[0;34m(self, resp, req, stream, timeout, verify, cert, proxies, yield_requests, **adapter_kwargs)\u001b[0m\n\u001b[1;32m    235\u001b[0m             \u001b[0;32melse\u001b[0m\u001b[0;34m:\u001b[0m\u001b[0;34m\u001b[0m\u001b[0;34m\u001b[0m\u001b[0m\n\u001b[1;32m    236\u001b[0m \u001b[0;34m\u001b[0m\u001b[0m\n\u001b[0;32m--> 237\u001b[0;31m                 resp = self.send(\n\u001b[0m\u001b[1;32m    238\u001b[0m                     \u001b[0mreq\u001b[0m\u001b[0;34m,\u001b[0m\u001b[0;34m\u001b[0m\u001b[0;34m\u001b[0m\u001b[0m\n\u001b[1;32m    239\u001b[0m                     \u001b[0mstream\u001b[0m\u001b[0;34m=\u001b[0m\u001b[0mstream\u001b[0m\u001b[0;34m,\u001b[0m\u001b[0;34m\u001b[0m\u001b[0;34m\u001b[0m\u001b[0m\n",
            "\u001b[0;32m/usr/local/lib/python3.9/dist-packages/requests/sessions.py\u001b[0m in \u001b[0;36msend\u001b[0;34m(self, request, **kwargs)\u001b[0m\n\u001b[1;32m    643\u001b[0m \u001b[0;34m\u001b[0m\u001b[0m\n\u001b[1;32m    644\u001b[0m         \u001b[0;31m# Send the request\u001b[0m\u001b[0;34m\u001b[0m\u001b[0;34m\u001b[0m\u001b[0m\n\u001b[0;32m--> 645\u001b[0;31m         \u001b[0mr\u001b[0m \u001b[0;34m=\u001b[0m \u001b[0madapter\u001b[0m\u001b[0;34m.\u001b[0m\u001b[0msend\u001b[0m\u001b[0;34m(\u001b[0m\u001b[0mrequest\u001b[0m\u001b[0;34m,\u001b[0m \u001b[0;34m**\u001b[0m\u001b[0mkwargs\u001b[0m\u001b[0;34m)\u001b[0m\u001b[0;34m\u001b[0m\u001b[0;34m\u001b[0m\u001b[0m\n\u001b[0m\u001b[1;32m    646\u001b[0m \u001b[0;34m\u001b[0m\u001b[0m\n\u001b[1;32m    647\u001b[0m         \u001b[0;31m# Total elapsed time of the request (approximately)\u001b[0m\u001b[0;34m\u001b[0m\u001b[0;34m\u001b[0m\u001b[0m\n",
            "\u001b[0;32m/usr/local/lib/python3.9/dist-packages/requests/adapters.py\u001b[0m in \u001b[0;36msend\u001b[0;34m(self, request, stream, timeout, verify, cert, proxies)\u001b[0m\n\u001b[1;32m    438\u001b[0m         \u001b[0;32mtry\u001b[0m\u001b[0;34m:\u001b[0m\u001b[0;34m\u001b[0m\u001b[0;34m\u001b[0m\u001b[0m\n\u001b[1;32m    439\u001b[0m             \u001b[0;32mif\u001b[0m \u001b[0;32mnot\u001b[0m \u001b[0mchunked\u001b[0m\u001b[0;34m:\u001b[0m\u001b[0;34m\u001b[0m\u001b[0;34m\u001b[0m\u001b[0m\n\u001b[0;32m--> 440\u001b[0;31m                 resp = conn.urlopen(\n\u001b[0m\u001b[1;32m    441\u001b[0m                     \u001b[0mmethod\u001b[0m\u001b[0;34m=\u001b[0m\u001b[0mrequest\u001b[0m\u001b[0;34m.\u001b[0m\u001b[0mmethod\u001b[0m\u001b[0;34m,\u001b[0m\u001b[0;34m\u001b[0m\u001b[0;34m\u001b[0m\u001b[0m\n\u001b[1;32m    442\u001b[0m                     \u001b[0murl\u001b[0m\u001b[0;34m=\u001b[0m\u001b[0murl\u001b[0m\u001b[0;34m,\u001b[0m\u001b[0;34m\u001b[0m\u001b[0;34m\u001b[0m\u001b[0m\n",
            "\u001b[0;32m/usr/local/lib/python3.9/dist-packages/urllib3/connectionpool.py\u001b[0m in \u001b[0;36murlopen\u001b[0;34m(self, method, url, body, headers, retries, redirect, assert_same_host, timeout, pool_timeout, release_conn, chunked, body_pos, **response_kw)\u001b[0m\n\u001b[1;32m    701\u001b[0m \u001b[0;34m\u001b[0m\u001b[0m\n\u001b[1;32m    702\u001b[0m             \u001b[0;31m# Make the request on the httplib connection object.\u001b[0m\u001b[0;34m\u001b[0m\u001b[0;34m\u001b[0m\u001b[0m\n\u001b[0;32m--> 703\u001b[0;31m             httplib_response = self._make_request(\n\u001b[0m\u001b[1;32m    704\u001b[0m                 \u001b[0mconn\u001b[0m\u001b[0;34m,\u001b[0m\u001b[0;34m\u001b[0m\u001b[0;34m\u001b[0m\u001b[0m\n\u001b[1;32m    705\u001b[0m                 \u001b[0mmethod\u001b[0m\u001b[0;34m,\u001b[0m\u001b[0;34m\u001b[0m\u001b[0;34m\u001b[0m\u001b[0m\n",
            "\u001b[0;32m/usr/local/lib/python3.9/dist-packages/urllib3/connectionpool.py\u001b[0m in \u001b[0;36m_make_request\u001b[0;34m(self, conn, method, url, timeout, chunked, **httplib_request_kw)\u001b[0m\n\u001b[1;32m    447\u001b[0m                     \u001b[0;31m# Python 3 (including for exceptions like SystemExit).\u001b[0m\u001b[0;34m\u001b[0m\u001b[0;34m\u001b[0m\u001b[0m\n\u001b[1;32m    448\u001b[0m                     \u001b[0;31m# Otherwise it looks like a bug in the code.\u001b[0m\u001b[0;34m\u001b[0m\u001b[0;34m\u001b[0m\u001b[0m\n\u001b[0;32m--> 449\u001b[0;31m                     \u001b[0msix\u001b[0m\u001b[0;34m.\u001b[0m\u001b[0mraise_from\u001b[0m\u001b[0;34m(\u001b[0m\u001b[0me\u001b[0m\u001b[0;34m,\u001b[0m \u001b[0;32mNone\u001b[0m\u001b[0;34m)\u001b[0m\u001b[0;34m\u001b[0m\u001b[0;34m\u001b[0m\u001b[0m\n\u001b[0m\u001b[1;32m    450\u001b[0m         \u001b[0;32mexcept\u001b[0m \u001b[0;34m(\u001b[0m\u001b[0mSocketTimeout\u001b[0m\u001b[0;34m,\u001b[0m \u001b[0mBaseSSLError\u001b[0m\u001b[0;34m,\u001b[0m \u001b[0mSocketError\u001b[0m\u001b[0;34m)\u001b[0m \u001b[0;32mas\u001b[0m \u001b[0me\u001b[0m\u001b[0;34m:\u001b[0m\u001b[0;34m\u001b[0m\u001b[0;34m\u001b[0m\u001b[0m\n\u001b[1;32m    451\u001b[0m             \u001b[0mself\u001b[0m\u001b[0;34m.\u001b[0m\u001b[0m_raise_timeout\u001b[0m\u001b[0;34m(\u001b[0m\u001b[0merr\u001b[0m\u001b[0;34m=\u001b[0m\u001b[0me\u001b[0m\u001b[0;34m,\u001b[0m \u001b[0murl\u001b[0m\u001b[0;34m=\u001b[0m\u001b[0murl\u001b[0m\u001b[0;34m,\u001b[0m \u001b[0mtimeout_value\u001b[0m\u001b[0;34m=\u001b[0m\u001b[0mread_timeout\u001b[0m\u001b[0;34m)\u001b[0m\u001b[0;34m\u001b[0m\u001b[0;34m\u001b[0m\u001b[0m\n",
            "\u001b[0;32m/usr/local/lib/python3.9/dist-packages/urllib3/packages/six.py\u001b[0m in \u001b[0;36mraise_from\u001b[0;34m(value, from_value)\u001b[0m\n",
            "\u001b[0;32m/usr/local/lib/python3.9/dist-packages/urllib3/connectionpool.py\u001b[0m in \u001b[0;36m_make_request\u001b[0;34m(self, conn, method, url, timeout, chunked, **httplib_request_kw)\u001b[0m\n\u001b[1;32m    442\u001b[0m                 \u001b[0;31m# Python 3\u001b[0m\u001b[0;34m\u001b[0m\u001b[0;34m\u001b[0m\u001b[0m\n\u001b[1;32m    443\u001b[0m                 \u001b[0;32mtry\u001b[0m\u001b[0;34m:\u001b[0m\u001b[0;34m\u001b[0m\u001b[0;34m\u001b[0m\u001b[0m\n\u001b[0;32m--> 444\u001b[0;31m                     \u001b[0mhttplib_response\u001b[0m \u001b[0;34m=\u001b[0m \u001b[0mconn\u001b[0m\u001b[0;34m.\u001b[0m\u001b[0mgetresponse\u001b[0m\u001b[0;34m(\u001b[0m\u001b[0;34m)\u001b[0m\u001b[0;34m\u001b[0m\u001b[0;34m\u001b[0m\u001b[0m\n\u001b[0m\u001b[1;32m    445\u001b[0m                 \u001b[0;32mexcept\u001b[0m \u001b[0mBaseException\u001b[0m \u001b[0;32mas\u001b[0m \u001b[0me\u001b[0m\u001b[0;34m:\u001b[0m\u001b[0;34m\u001b[0m\u001b[0;34m\u001b[0m\u001b[0m\n\u001b[1;32m    446\u001b[0m                     \u001b[0;31m# Remove the TypeError from the exception chain in\u001b[0m\u001b[0;34m\u001b[0m\u001b[0;34m\u001b[0m\u001b[0m\n",
            "\u001b[0;32m/usr/lib/python3.9/http/client.py\u001b[0m in \u001b[0;36mgetresponse\u001b[0;34m(self)\u001b[0m\n\u001b[1;32m   1375\u001b[0m         \u001b[0;32mtry\u001b[0m\u001b[0;34m:\u001b[0m\u001b[0;34m\u001b[0m\u001b[0;34m\u001b[0m\u001b[0m\n\u001b[1;32m   1376\u001b[0m             \u001b[0;32mtry\u001b[0m\u001b[0;34m:\u001b[0m\u001b[0;34m\u001b[0m\u001b[0;34m\u001b[0m\u001b[0m\n\u001b[0;32m-> 1377\u001b[0;31m                 \u001b[0mresponse\u001b[0m\u001b[0;34m.\u001b[0m\u001b[0mbegin\u001b[0m\u001b[0;34m(\u001b[0m\u001b[0;34m)\u001b[0m\u001b[0;34m\u001b[0m\u001b[0;34m\u001b[0m\u001b[0m\n\u001b[0m\u001b[1;32m   1378\u001b[0m             \u001b[0;32mexcept\u001b[0m \u001b[0mConnectionError\u001b[0m\u001b[0;34m:\u001b[0m\u001b[0;34m\u001b[0m\u001b[0;34m\u001b[0m\u001b[0m\n\u001b[1;32m   1379\u001b[0m                 \u001b[0mself\u001b[0m\u001b[0;34m.\u001b[0m\u001b[0mclose\u001b[0m\u001b[0;34m(\u001b[0m\u001b[0;34m)\u001b[0m\u001b[0;34m\u001b[0m\u001b[0;34m\u001b[0m\u001b[0m\n",
            "\u001b[0;32m/usr/lib/python3.9/http/client.py\u001b[0m in \u001b[0;36mbegin\u001b[0;34m(self)\u001b[0m\n\u001b[1;32m    318\u001b[0m         \u001b[0;31m# read until we get a non-100 response\u001b[0m\u001b[0;34m\u001b[0m\u001b[0;34m\u001b[0m\u001b[0m\n\u001b[1;32m    319\u001b[0m         \u001b[0;32mwhile\u001b[0m \u001b[0;32mTrue\u001b[0m\u001b[0;34m:\u001b[0m\u001b[0;34m\u001b[0m\u001b[0;34m\u001b[0m\u001b[0m\n\u001b[0;32m--> 320\u001b[0;31m             \u001b[0mversion\u001b[0m\u001b[0;34m,\u001b[0m \u001b[0mstatus\u001b[0m\u001b[0;34m,\u001b[0m \u001b[0mreason\u001b[0m \u001b[0;34m=\u001b[0m \u001b[0mself\u001b[0m\u001b[0;34m.\u001b[0m\u001b[0m_read_status\u001b[0m\u001b[0;34m(\u001b[0m\u001b[0;34m)\u001b[0m\u001b[0;34m\u001b[0m\u001b[0;34m\u001b[0m\u001b[0m\n\u001b[0m\u001b[1;32m    321\u001b[0m             \u001b[0;32mif\u001b[0m \u001b[0mstatus\u001b[0m \u001b[0;34m!=\u001b[0m \u001b[0mCONTINUE\u001b[0m\u001b[0;34m:\u001b[0m\u001b[0;34m\u001b[0m\u001b[0;34m\u001b[0m\u001b[0m\n\u001b[1;32m    322\u001b[0m                 \u001b[0;32mbreak\u001b[0m\u001b[0;34m\u001b[0m\u001b[0;34m\u001b[0m\u001b[0m\n",
            "\u001b[0;32m/usr/lib/python3.9/http/client.py\u001b[0m in \u001b[0;36m_read_status\u001b[0;34m(self)\u001b[0m\n\u001b[1;32m    279\u001b[0m \u001b[0;34m\u001b[0m\u001b[0m\n\u001b[1;32m    280\u001b[0m     \u001b[0;32mdef\u001b[0m \u001b[0m_read_status\u001b[0m\u001b[0;34m(\u001b[0m\u001b[0mself\u001b[0m\u001b[0;34m)\u001b[0m\u001b[0;34m:\u001b[0m\u001b[0;34m\u001b[0m\u001b[0;34m\u001b[0m\u001b[0m\n\u001b[0;32m--> 281\u001b[0;31m         \u001b[0mline\u001b[0m \u001b[0;34m=\u001b[0m \u001b[0mstr\u001b[0m\u001b[0;34m(\u001b[0m\u001b[0mself\u001b[0m\u001b[0;34m.\u001b[0m\u001b[0mfp\u001b[0m\u001b[0;34m.\u001b[0m\u001b[0mreadline\u001b[0m\u001b[0;34m(\u001b[0m\u001b[0m_MAXLINE\u001b[0m \u001b[0;34m+\u001b[0m \u001b[0;36m1\u001b[0m\u001b[0;34m)\u001b[0m\u001b[0;34m,\u001b[0m \u001b[0;34m\"iso-8859-1\"\u001b[0m\u001b[0;34m)\u001b[0m\u001b[0;34m\u001b[0m\u001b[0;34m\u001b[0m\u001b[0m\n\u001b[0m\u001b[1;32m    282\u001b[0m         \u001b[0;32mif\u001b[0m \u001b[0mlen\u001b[0m\u001b[0;34m(\u001b[0m\u001b[0mline\u001b[0m\u001b[0;34m)\u001b[0m \u001b[0;34m>\u001b[0m \u001b[0m_MAXLINE\u001b[0m\u001b[0;34m:\u001b[0m\u001b[0;34m\u001b[0m\u001b[0;34m\u001b[0m\u001b[0m\n\u001b[1;32m    283\u001b[0m             \u001b[0;32mraise\u001b[0m \u001b[0mLineTooLong\u001b[0m\u001b[0;34m(\u001b[0m\u001b[0;34m\"status line\"\u001b[0m\u001b[0;34m)\u001b[0m\u001b[0;34m\u001b[0m\u001b[0;34m\u001b[0m\u001b[0m\n",
            "\u001b[0;32m/usr/lib/python3.9/socket.py\u001b[0m in \u001b[0;36mreadinto\u001b[0;34m(self, b)\u001b[0m\n\u001b[1;32m    702\u001b[0m         \u001b[0;32mwhile\u001b[0m \u001b[0;32mTrue\u001b[0m\u001b[0;34m:\u001b[0m\u001b[0;34m\u001b[0m\u001b[0;34m\u001b[0m\u001b[0m\n\u001b[1;32m    703\u001b[0m             \u001b[0;32mtry\u001b[0m\u001b[0;34m:\u001b[0m\u001b[0;34m\u001b[0m\u001b[0;34m\u001b[0m\u001b[0m\n\u001b[0;32m--> 704\u001b[0;31m                 \u001b[0;32mreturn\u001b[0m \u001b[0mself\u001b[0m\u001b[0;34m.\u001b[0m\u001b[0m_sock\u001b[0m\u001b[0;34m.\u001b[0m\u001b[0mrecv_into\u001b[0m\u001b[0;34m(\u001b[0m\u001b[0mb\u001b[0m\u001b[0;34m)\u001b[0m\u001b[0;34m\u001b[0m\u001b[0;34m\u001b[0m\u001b[0m\n\u001b[0m\u001b[1;32m    705\u001b[0m             \u001b[0;32mexcept\u001b[0m \u001b[0mtimeout\u001b[0m\u001b[0;34m:\u001b[0m\u001b[0;34m\u001b[0m\u001b[0;34m\u001b[0m\u001b[0m\n\u001b[1;32m    706\u001b[0m                 \u001b[0mself\u001b[0m\u001b[0;34m.\u001b[0m\u001b[0m_timeout_occurred\u001b[0m \u001b[0;34m=\u001b[0m \u001b[0;32mTrue\u001b[0m\u001b[0;34m\u001b[0m\u001b[0;34m\u001b[0m\u001b[0m\n",
            "\u001b[0;32m/usr/lib/python3.9/ssl.py\u001b[0m in \u001b[0;36mrecv_into\u001b[0;34m(self, buffer, nbytes, flags)\u001b[0m\n\u001b[1;32m   1240\u001b[0m                   \u001b[0;34m\"non-zero flags not allowed in calls to recv_into() on %s\"\u001b[0m \u001b[0;34m%\u001b[0m\u001b[0;34m\u001b[0m\u001b[0;34m\u001b[0m\u001b[0m\n\u001b[1;32m   1241\u001b[0m                   self.__class__)\n\u001b[0;32m-> 1242\u001b[0;31m             \u001b[0;32mreturn\u001b[0m \u001b[0mself\u001b[0m\u001b[0;34m.\u001b[0m\u001b[0mread\u001b[0m\u001b[0;34m(\u001b[0m\u001b[0mnbytes\u001b[0m\u001b[0;34m,\u001b[0m \u001b[0mbuffer\u001b[0m\u001b[0;34m)\u001b[0m\u001b[0;34m\u001b[0m\u001b[0;34m\u001b[0m\u001b[0m\n\u001b[0m\u001b[1;32m   1243\u001b[0m         \u001b[0;32melse\u001b[0m\u001b[0;34m:\u001b[0m\u001b[0;34m\u001b[0m\u001b[0;34m\u001b[0m\u001b[0m\n\u001b[1;32m   1244\u001b[0m             \u001b[0;32mreturn\u001b[0m \u001b[0msuper\u001b[0m\u001b[0;34m(\u001b[0m\u001b[0;34m)\u001b[0m\u001b[0;34m.\u001b[0m\u001b[0mrecv_into\u001b[0m\u001b[0;34m(\u001b[0m\u001b[0mbuffer\u001b[0m\u001b[0;34m,\u001b[0m \u001b[0mnbytes\u001b[0m\u001b[0;34m,\u001b[0m \u001b[0mflags\u001b[0m\u001b[0;34m)\u001b[0m\u001b[0;34m\u001b[0m\u001b[0;34m\u001b[0m\u001b[0m\n",
            "\u001b[0;32m/usr/lib/python3.9/ssl.py\u001b[0m in \u001b[0;36mread\u001b[0;34m(self, len, buffer)\u001b[0m\n\u001b[1;32m   1098\u001b[0m         \u001b[0;32mtry\u001b[0m\u001b[0;34m:\u001b[0m\u001b[0;34m\u001b[0m\u001b[0;34m\u001b[0m\u001b[0m\n\u001b[1;32m   1099\u001b[0m             \u001b[0;32mif\u001b[0m \u001b[0mbuffer\u001b[0m \u001b[0;32mis\u001b[0m \u001b[0;32mnot\u001b[0m \u001b[0;32mNone\u001b[0m\u001b[0;34m:\u001b[0m\u001b[0;34m\u001b[0m\u001b[0;34m\u001b[0m\u001b[0m\n\u001b[0;32m-> 1100\u001b[0;31m                 \u001b[0;32mreturn\u001b[0m \u001b[0mself\u001b[0m\u001b[0;34m.\u001b[0m\u001b[0m_sslobj\u001b[0m\u001b[0;34m.\u001b[0m\u001b[0mread\u001b[0m\u001b[0;34m(\u001b[0m\u001b[0mlen\u001b[0m\u001b[0;34m,\u001b[0m \u001b[0mbuffer\u001b[0m\u001b[0;34m)\u001b[0m\u001b[0;34m\u001b[0m\u001b[0;34m\u001b[0m\u001b[0m\n\u001b[0m\u001b[1;32m   1101\u001b[0m             \u001b[0;32melse\u001b[0m\u001b[0;34m:\u001b[0m\u001b[0;34m\u001b[0m\u001b[0;34m\u001b[0m\u001b[0m\n\u001b[1;32m   1102\u001b[0m                 \u001b[0;32mreturn\u001b[0m \u001b[0mself\u001b[0m\u001b[0;34m.\u001b[0m\u001b[0m_sslobj\u001b[0m\u001b[0;34m.\u001b[0m\u001b[0mread\u001b[0m\u001b[0;34m(\u001b[0m\u001b[0mlen\u001b[0m\u001b[0;34m)\u001b[0m\u001b[0;34m\u001b[0m\u001b[0;34m\u001b[0m\u001b[0m\n",
            "\u001b[0;31mKeyboardInterrupt\u001b[0m: "
          ]
        }
      ]
    },
    {
      "cell_type": "code",
      "source": [
        "# 특별메서드\n",
        "class A:\n",
        "  def __str__(self):\n",
        "    return \"str\"\n",
        "  def __repr__(self):\n",
        "    return \"repr\"\n",
        "  def result_fu(self):\n",
        "    msg = \"msg\"\n",
        "    return msg"
      ],
      "metadata": {
        "id": "vKEG5PRpAqrk"
      },
      "execution_count": null,
      "outputs": []
    },
    {
      "cell_type": "code",
      "source": [
        "class AA(A):\n",
        "  def __init__(self):\n",
        "    super().__init__()"
      ],
      "metadata": {
        "id": "ChLTbK5FBEkV"
      },
      "execution_count": null,
      "outputs": []
    },
    {
      "cell_type": "code",
      "source": [
        "a = A()"
      ],
      "metadata": {
        "colab": {
          "base_uri": "https://localhost:8080/"
        },
        "id": "fcRlF-iCAtgP",
        "outputId": "48b9f33f-2362-4afa-d066-83500766924f"
      },
      "execution_count": null,
      "outputs": [
        {
          "output_type": "stream",
          "name": "stdout",
          "text": [
            "str\n"
          ]
        }
      ]
    },
    {
      "cell_type": "code",
      "source": [
        "a.result_fu"
      ],
      "metadata": {
        "colab": {
          "base_uri": "https://localhost:8080/",
          "height": 35
        },
        "id": "pLbhDHosBM5O",
        "outputId": "176a4cbc-c56c-4905-e4e4-579facca87be"
      },
      "execution_count": null,
      "outputs": [
        {
          "output_type": "execute_result",
          "data": {
            "text/plain": [
              "'msg'"
            ],
            "application/vnd.google.colaboratory.intrinsic+json": {
              "type": "string"
            }
          },
          "metadata": {},
          "execution_count": 46
        }
      ]
    },
    {
      "cell_type": "code",
      "source": [
        "import requests as re\n",
        "#이놈은 회차번호 가공점을 찾는 것 (추후 해야할것 )\n",
        "# class NumInfo:\n",
        "class Lottory:\n",
        "    def __init__(self):\n",
        "        self.num = self.inputCh()\n",
        "        self.UrlList = self.UrlStore()\n",
        "        self.FinalData = self.MakeValue()\n",
        "        self.printData()\n",
        "    def inputCh(self):\n",
        "        tempNum = int(input(\"insert number : \"))\n",
        "        return tempNum\n",
        "    def UrlStore(self):\n",
        "        baseUrl = 'https://www.dhlottery.co.kr/common.do?method=getLottoNumber&drwNo='\n",
        "        tmpUrl =[]\n",
        "        for i in range(1, self.num +1):\n",
        "            finalUrl = baseUrl + str(i)\n",
        "            tmpUrl.append(finalUrl)\n",
        "        return tmpUrl\n",
        "    def MakeValue(self):\n",
        "        FinalData ={}\n",
        "        for i in range(len(self.UrlList)):\n",
        "            tmpNO = []\n",
        "            tmpApi = re.get(self.UrlList[i])\n",
        "            convertJson = tmpApi.json()\n",
        "            #print(convertJson)\n",
        "            #로또코드 데이터 관리 클래스 접목\n",
        "            for j in range(1,7):\n",
        "                tmpNO.append(convertJson[\"drwtNo{}\".format(j)])\n",
        "            FinalData[str(i+1) + \"회차 정보 : \"] = tmpNO\n",
        "        return FinalData\n",
        "    def printData(self):\n",
        "        for key, value in self.FinalData.items():\n",
        "            print(key, value)\n",
        "lo = Lottory()\n",
        "#코드의 재사용성? 기능확장성?\n",
        "#최적의 클래스를 짜기위한 조건이나 이론들?"
      ],
      "metadata": {
        "colab": {
          "base_uri": "https://localhost:8080/"
        },
        "id": "kAzdgylCFFdG",
        "outputId": "8fcf7680-2ed4-44fc-d582-82e99ca20cb0"
      },
      "execution_count": null,
      "outputs": [
        {
          "output_type": "stream",
          "name": "stdout",
          "text": [
            "insert number : 15\n",
            "1회차 정보 :  [10, 23, 29, 33, 37, 40]\n",
            "2회차 정보 :  [9, 13, 21, 25, 32, 42]\n",
            "3회차 정보 :  [11, 16, 19, 21, 27, 31]\n",
            "4회차 정보 :  [14, 27, 30, 31, 40, 42]\n",
            "5회차 정보 :  [16, 24, 29, 40, 41, 42]\n",
            "6회차 정보 :  [14, 15, 26, 27, 40, 42]\n",
            "7회차 정보 :  [2, 9, 16, 25, 26, 40]\n",
            "8회차 정보 :  [8, 19, 25, 34, 37, 39]\n",
            "9회차 정보 :  [2, 4, 16, 17, 36, 39]\n",
            "10회차 정보 :  [9, 25, 30, 33, 41, 44]\n",
            "11회차 정보 :  [1, 7, 36, 37, 41, 42]\n",
            "12회차 정보 :  [2, 11, 21, 25, 39, 45]\n",
            "13회차 정보 :  [22, 23, 25, 37, 38, 42]\n",
            "14회차 정보 :  [2, 6, 12, 31, 33, 40]\n",
            "15회차 정보 :  [3, 4, 16, 30, 31, 37]\n"
          ]
        }
      ]
    },
    {
      "cell_type": "code",
      "source": [
        "import requests\n",
        "\n",
        "lotto_numbers = []  # 로또 번호를 저장할 리스트를 초기화합니다.\n",
        "\n",
        "for i in range(1, 10):\n",
        "    url = f'https://www.dhlottery.co.kr/common.do?method=getLottoNumber&drwNo={i}'\n",
        "    response = requests.get(url)\n",
        "    output = response.json()\n",
        "    numbers = [output[f'drwtNo{n}'] for n in range(1, 7)]  # 1 ~ 6번 당첨 번호를 가져옵니다.\n",
        "    bonus_number = output['bnusNo']  # 보너스 번호를 가져옵니다.\n",
        "    lotto_numbers.append([f\"{i}회차\"] + numbers + [bonus_number])  # 로또 번호와 회차를 리스트에 추가합니다.\n",
        "\n",
        "# 결과를 출력합니다.\n",
        "for numbers in lotto_numbers:\n",
        "    print(numbers)"
      ],
      "metadata": {
        "colab": {
          "base_uri": "https://localhost:8080/"
        },
        "id": "pLHviw4wGZVQ",
        "outputId": "9ff19510-54c2-42e3-9926-526952b6347e"
      },
      "execution_count": null,
      "outputs": [
        {
          "output_type": "stream",
          "name": "stdout",
          "text": [
            "['1회차', 10, 23, 29, 33, 37, 40, 16]\n",
            "['2회차', 9, 13, 21, 25, 32, 42, 2]\n",
            "['3회차', 11, 16, 19, 21, 27, 31, 30]\n",
            "['4회차', 14, 27, 30, 31, 40, 42, 2]\n",
            "['5회차', 16, 24, 29, 40, 41, 42, 3]\n",
            "['6회차', 14, 15, 26, 27, 40, 42, 34]\n",
            "['7회차', 2, 9, 16, 25, 26, 40, 42]\n",
            "['8회차', 8, 19, 25, 34, 37, 39, 9]\n",
            "['9회차', 2, 4, 16, 17, 36, 39, 14]\n"
          ]
        }
      ]
    },
    {
      "cell_type": "code",
      "source": [
        "import requests\n",
        "import json\n",
        "num = int(input(\"몇차를 원하십니까?\"))\n",
        "url = f'https://www.dhlottery.co.kr/common.do?method=getLottoNumber&drwNo={num}'\n",
        "response = requests.get(url)\n",
        "if response.status_code == 200:\n",
        "    data = json.loads(response.content)\n",
        "    winning_numbers = [data['drwtNo1'], data['drwtNo2'], data['drwtNo3'], data['drwtNo4'], data['drwtNo5'], data['drwtNo6']]\n",
        "    print(f\"요청하신 로또 번호 입니다. {winning_numbers}\")\n",
        "else:\n",
        "   print(\"Error\")"
      ],
      "metadata": {
        "id": "BVmQ9zRfHXc9"
      },
      "execution_count": null,
      "outputs": []
    },
    {
      "cell_type": "code",
      "source": [
        "class Get_lotto_info:\n",
        "    def __init__(self,url = '',url_n = [], lotto_n_list = []):\n",
        "        self.url = url\n",
        "        self.url_n = url_n\n",
        "        self.lotto_n_list = lotto_n_list\n",
        "    def lotto_info(self):\n",
        "        for i in range(50):\n",
        "            n = i + 1            \n",
        "            response = requests.get(f'{self.url}{n}')\n",
        "            output = response.json()\n",
        "            self.url_n.append(output)\n",
        "    def lotto_number_list(self):      \n",
        "        try_n = int(input(\"몇 회차의 로또 번호를 확인하시겠습니까? \"))\n",
        "        for i in range (6):\n",
        "            n_ = i + 1\n",
        "            self.lotto_n_list.append(self.url_n[try_n-1][f'drwtNo{n_}'])\n",
        "        print(self.lotto_n_list)\n",
        "        return self.lotto_n_list\n",
        "url = 'https://www.dhlottery.co.kr/common.do?method=getLottoNumber&drwNo='\n",
        "A = Get_lotto_info(url = url)\n",
        "A.lotto_info()\n",
        "A.lotto_number_list()"
      ],
      "metadata": {
        "colab": {
          "base_uri": "https://localhost:8080/"
        },
        "id": "V6_YQpQOHdDF",
        "outputId": "97e2f293-6f8b-4000-d430-c6e03fa3bc2f"
      },
      "execution_count": null,
      "outputs": [
        {
          "output_type": "stream",
          "name": "stdout",
          "text": [
            "몇 회차의 로또 번호를 확인하시겠습니까? 41\n",
            "[13, 20, 23, 35, 38, 43]\n"
          ]
        },
        {
          "output_type": "execute_result",
          "data": {
            "text/plain": [
              "[13, 20, 23, 35, 38, 43]"
            ]
          },
          "metadata": {},
          "execution_count": 51
        }
      ]
    },
    {
      "cell_type": "code",
      "source": [
        "import requests\n",
        "from my_library import int_input as inp\n",
        "from my_library import str_input as stp\n",
        "from tqdm.notebook import tqdm\n",
        "\n",
        "# 로또 데이터를 저장&관리하는 클래스 정의\n",
        "class lotto_data:\n",
        "    \n",
        "    # 회차의 범위를 입력받아 딕셔너리의 형태로 데이터를 괸리\n",
        "    def __init__(self, last_number):        # 외부로부터 호출받아야 할 변수의 목록\n",
        "        self.last_number = last_number\n",
        "        self.api_dict = {}\n",
        "        for i in range(1, self.last_number):\n",
        "            self.url_link = f\"https://www.dhlottery.co.kr/common.do?method=getLottoNumber&drwNo={i}\"\n",
        "            self.url_api = requests.get(self.url_link)\n",
        "            self.url_json = self.url_api.json()\n",
        "            self.api_dict[i+1] = self.url_json\n",
        "\n",
        "# 로또 데이터로 특정 기능들을 수행하는 클래스 정의\n",
        "class lotto_function(lotto_data):            \n",
        "            \n",
        "    def __init__(self, last_number):\n",
        "        super().__init__(last_number)\n",
        "        \n",
        "    def make_win_number_dict(self):\n",
        "        self.win_number_dict = {}\n",
        "        for key, value in self.api_dict.items():\n",
        "            self.win_number_dict[key] = {}\n",
        "            for i in range(1, 7):\n",
        "                self.win_number_dict[key][f\"drwtNo{i}\"] = self.api_dict[i+1][f\"drwtNo{i}\"] \n",
        "    \n",
        "    # 특정 회차의 당첨 번호를 반환하는 메서드\n",
        "    def selected_numbers(self):\n",
        "        self.selected_number = inp(\"조회하실 당첨 번호를 입력하세요. >\", 1, self.last_number)\n",
        "        self.win_number = {}\n",
        "        for i in range(1, 7):\n",
        "            self.win_number[f\"drwtNo{i}\"] = self.api_dict[i+1][f\"drwtNo{i}\"] \n",
        "        print(f\"{self.selected_number}회의 당첨 번호는 다음과 같습니다.\\n> \", end = \"\")\n",
        "        for a, b in self.win_number.items():\n",
        "            print(f\"{b}번\", end = \" \")\n",
        "        print()\n",
        "\n",
        "lotto = lotto_function(100)\n",
        "lotto.selected_numbers()"
      ],
      "metadata": {
        "colab": {
          "base_uri": "https://localhost:8080/"
        },
        "id": "jo_ei50UIjmG",
        "outputId": "cbb322f8-ce82-47ca-fc37-11e2855075fd"
      },
      "execution_count": null,
      "outputs": [
        {
          "output_type": "stream",
          "name": "stdout",
          "text": [
            "조회하실 당첨 번호를 입력하세요. >51\n",
            "51회의 당첨 번호는 다음과 같습니다.\n",
            "> 10번 13번 19번 31번 41번 42번 \n"
          ]
        }
      ]
    },
    {
      "cell_type": "code",
      "source": [
        "import requests\n",
        "\n",
        "class Lotto :\n",
        "    # numlist=[]\n",
        "    def makedic(self, url) :\n",
        "        # print(\"makedic url\", url)                            # 한 회차의 딕셔너리 만들기\n",
        "        response=requests.get(url)\n",
        "        output=response.json()\n",
        "        # print(\"makedic output\",output)\n",
        "        return output                                   # 딕셔너리 만들어서 리턴\n",
        "    def extract(self, output) :                         # 각 회차의 당첨번호 리스트로 리턴\n",
        "        numlist=[]\n",
        "        numlist.append(output.get('drwtNo1'))\n",
        "        numlist.append(output.get('drwtNo2'))\n",
        "        numlist.append(output.get('drwtNo3'))\n",
        "        numlist.append(output.get('drwtNo4'))\n",
        "        numlist.append(output.get('drwtNo5'))\n",
        "        numlist.append(output.get('drwtNo6'))\n",
        "        return numlist\n",
        "    \n",
        "lotto=Lotto()\n",
        "result=[]\n",
        "tmp=int(input(\"로또번호 몇 회차까지? : \"))\n",
        "for i in range(1,tmp+1) :\n",
        "    a=f'https://www.dhlottery.co.kr/common.do?method=getLottoNumber&drwNo={i}'\n",
        "    item=lotto.makedic(a)     # i 번째 딕셔너리 생성\n",
        "    # print(item)\n",
        "    result.append(lotto.extract(item))\n",
        "\n",
        "for i in range(tmp) :\n",
        "    print(i+1,\"번째 번호 : \",result[i])"
      ],
      "metadata": {
        "colab": {
          "base_uri": "https://localhost:8080/"
        },
        "id": "FC-Yj6LfJ_Iu",
        "outputId": "574ed65e-eeae-41f0-a148-96db75e04471"
      },
      "execution_count": null,
      "outputs": [
        {
          "output_type": "stream",
          "name": "stdout",
          "text": [
            "로또번호 몇 회차까지? : 5\n",
            "1 번째 번호 :  [10, 23, 29, 33, 37, 40]\n",
            "2 번째 번호 :  [9, 13, 21, 25, 32, 42]\n",
            "3 번째 번호 :  [11, 16, 19, 21, 27, 31]\n",
            "4 번째 번호 :  [14, 27, 30, 31, 40, 42]\n",
            "5 번째 번호 :  [16, 24, 29, 40, 41, 42]\n"
          ]
        }
      ]
    }
  ]
}