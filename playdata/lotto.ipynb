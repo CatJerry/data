{
 "cells": [
  {
   "cell_type": "code",
   "execution_count": 1,
   "metadata": {},
   "outputs": [],
   "source": [
    "class People():\n",
    "    # 이름, 나이, 방문횟수\n",
    "    def __init__(self, name, age, t):\n",
    "        self.name = name\n",
    "        self.age = age\n",
    "        self.t = t\n",
    "    "
   ]
  },
  {
   "cell_type": "code",
   "execution_count": 1,
   "metadata": {},
   "outputs": [],
   "source": [
    "import requests"
   ]
  },
  {
   "cell_type": "code",
   "execution_count": 1,
   "metadata": {},
   "outputs": [],
   "source": [
    "class LottoMan:\n",
    "    def __init__(self):\n",
    "        self.shop_name = '우리동네 로또가게'\n",
    "    def answer_lotto_numbers(self, num):\n",
    "        print(\"응답\")"
   ]
  },
  {
   "cell_type": "code",
   "execution_count": 28,
   "metadata": {},
   "outputs": [
    {
     "ename": "TypeError",
     "evalue": "lotto_api() takes 0 positional arguments but 1 was given",
     "output_type": "error",
     "traceback": [
      "\u001b[0;31m---------------------------------------------------------------------------\u001b[0m",
      "\u001b[0;31mTypeError\u001b[0m                                 Traceback (most recent call last)",
      "Cell \u001b[0;32mIn[28], line 32\u001b[0m\n\u001b[1;32m     29\u001b[0m         \u001b[39mreturn\u001b[39;00m output\n\u001b[1;32m     31\u001b[0m lot \u001b[39m=\u001b[39m LottoMan()\n\u001b[0;32m---> 32\u001b[0m output \u001b[39m=\u001b[39m lot\u001b[39m.\u001b[39;49manswer_lotto_numbers(\u001b[39m50\u001b[39;49m)\n\u001b[1;32m     34\u001b[0m \u001b[39mid\u001b[39m \u001b[39m=\u001b[39m LottoData(output)\n\u001b[1;32m     35\u001b[0m \u001b[39mid\u001b[39m\u001b[39m.\u001b[39mdrwNoDate\n",
      "Cell \u001b[0;32mIn[28], line 26\u001b[0m, in \u001b[0;36mLottoMan.answer_lotto_numbers\u001b[0;34m(self, num)\u001b[0m\n\u001b[1;32m     25\u001b[0m \u001b[39mdef\u001b[39;00m \u001b[39manswer_lotto_numbers\u001b[39m(\u001b[39mself\u001b[39m, num):\n\u001b[0;32m---> 26\u001b[0m     output \u001b[39m=\u001b[39m lotto_api(num)\n\u001b[1;32m     27\u001b[0m     \u001b[39mid\u001b[39m \u001b[39m=\u001b[39m LottoData(output)\n\u001b[1;32m     28\u001b[0m     \u001b[39mprint\u001b[39m(\u001b[39m\"\u001b[39m\u001b[39m응답\u001b[39m\u001b[39m\"\u001b[39m, \u001b[39mid\u001b[39m\u001b[39m.\u001b[39mnumbers)\n",
      "\u001b[0;31mTypeError\u001b[0m: lotto_api() takes 0 positional arguments but 1 was given"
     ]
    }
   ],
   "source": [
    "import requests\n",
    "total_data = {}\n",
    "def lotto_api(num):\n",
    "    url = [f'https://www.dhlottery.co.kr/common.do?method=getLottoNumber&drwNo={num}']\n",
    "    response = requests.get(url)\n",
    "    output = response.json()\n",
    "    for i in range(1,7):\n",
    "        total_data[num] = output[f'drwt{i}']\n",
    "    return total_data\n",
    "\n",
    "class LottoData:\n",
    "    def __init__(self):\n",
    "        self.\n",
    "    \n",
    "class LottoMan:\n",
    "    def __init__(self):\n",
    "        self.shop_name = '우리동네 로또가게'\n",
    "    def answer_lotto_numbers(self, num):\n",
    "        output = lotto_api(num)\n",
    "        id = LottoData(output)\n",
    "        print(\"응답\", id.numbers)\n",
    "        return output\n",
    "\n",
    "lot = LottoMan()\n",
    "output = lot.answer_lotto_numbers(50)\n",
    "\n",
    "id = LottoData(output)\n",
    "id.drwNoDate"
   ]
  }
 ],
 "metadata": {
  "kernelspec": {
   "display_name": "downgrade",
   "language": "python",
   "name": "python3"
  },
  "language_info": {
   "codemirror_mode": {
    "name": "ipython",
    "version": 3
   },
   "file_extension": ".py",
   "mimetype": "text/x-python",
   "name": "python",
   "nbconvert_exporter": "python",
   "pygments_lexer": "ipython3",
   "version": "3.8.16"
  },
  "orig_nbformat": 4
 },
 "nbformat": 4,
 "nbformat_minor": 2
}
