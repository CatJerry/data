{
 "cells": [
  {
   "attachments": {},
   "cell_type": "markdown",
   "metadata": {},
   "source": [
    "## if"
   ]
  },
  {
   "cell_type": "code",
   "execution_count": 8,
   "metadata": {},
   "outputs": [
    {
     "name": "stdout",
     "output_type": "stream",
     "text": [
      "이 수는 홀수입니다.\n"
     ]
    }
   ],
   "source": [
    "num = input()\n",
    "check = int(num[-1])    # 일의자리만 확인\n",
    "check_list = [0,2,4,6,8]\n",
    "if check not in check_list:\n",
    "    print(\"이 수는 홀수입니다.\")\n",
    "else:\n",
    "    print(\"이 수는 짝수입니다.\")"
   ]
  },
  {
   "cell_type": "code",
   "execution_count": 13,
   "metadata": {},
   "outputs": [
    {
     "name": "stdout",
     "output_type": "stream",
     "text": [
      "90점은 A 등급입니다.\n"
     ]
    }
   ],
   "source": [
    "x = int(input())\n",
    "if x > 89:\n",
    "    grade = 'A'\n",
    "elif 80 <= x < 90:\n",
    "    grade = 'B'\n",
    "elif 70 <= x < 80:\n",
    "    grade = 'C'\n",
    "else:\n",
    "    grade = 'D'\n",
    "print(f\"{x}점은 {grade} 등급입니다.\")"
   ]
  },
  {
   "cell_type": "code",
   "execution_count": 16,
   "metadata": {},
   "outputs": [
    {
     "name": "stdout",
     "output_type": "stream",
     "text": [
      "same\n"
     ]
    }
   ],
   "source": [
    "time, score1, score2 = map(int, input().split())\n",
    "while time < 90:\n",
    "    score1 += 1\n",
    "    time += 5\n",
    "if score1 < score2:\n",
    "    print('lose')\n",
    "elif score1 == score2:\n",
    "    print('same')\n",
    "else:\n",
    "    print('win')"
   ]
  },
  {
   "cell_type": "code",
   "execution_count": 29,
   "metadata": {},
   "outputs": [
    {
     "name": "stdout",
     "output_type": "stream",
     "text": [
      "1 2 3 8 7 4 5 6 "
     ]
    }
   ],
   "source": [
    "from collections import deque\n",
    "graph = [\n",
    "    [],\n",
    "    [2,3,8],\n",
    "    [1,7],\n",
    "    [1,4,5],\n",
    "    [3,5],\n",
    "    [3,4],\n",
    "    [7],\n",
    "    [2,6,8],\n",
    "    [1,7]\n",
    "]\n",
    "\n",
    "visited = [False]*9\n",
    "def bfs(graph, start, visited):\n",
    "    queue = deque([start])\n",
    "    visited[start]= True\n",
    "    \n",
    "    while queue:\n",
    "        n = queue.popleft()\n",
    "        print(n, end =' ')\n",
    "\n",
    "        for i in graph[n]:\n",
    "            if visited[i] == False :\n",
    "                queue.append(i)\n",
    "                visited[i] = True\n",
    "    \n",
    "bfs(graph,1,visited)"
   ]
  },
  {
   "cell_type": "code",
   "execution_count": 30,
   "metadata": {},
   "outputs": [
    {
     "name": "stdout",
     "output_type": "stream",
     "text": [
      "1\n",
      "2\n",
      "7\n",
      "6\n",
      "8\n",
      "3\n",
      "4\n",
      "5\n"
     ]
    }
   ],
   "source": [
    "graph = [\n",
    "    [],\n",
    "    [2,3,8],\n",
    "    [1,7],\n",
    "    [1,4,5],\n",
    "    [3,5],\n",
    "    [3,4],\n",
    "    [7],\n",
    "    [2,6,8],\n",
    "    [1,7]\n",
    "]\n",
    "visited = [False]*9\n",
    "def dfs(graph, start, visited):\n",
    "    visited[start] = True\n",
    "    print(start)\n",
    "    for i in graph[start]:\n",
    "        if visited[i] == False:\n",
    "            dfs(graph,i,visited)\n",
    "            \n",
    "dfs(graph,1,visited)"
   ]
  },
  {
   "cell_type": "code",
   "execution_count": 20,
   "metadata": {},
   "outputs": [
    {
     "name": "stdout",
     "output_type": "stream",
     "text": [
      "주사위를 던졌습니다!\n",
      "----------------\n",
      "A의 숫자는 5입니다.\n",
      "B의 숫자는 5입니다.\n",
      "----------------\n",
      "비겼습니다.\n"
     ]
    }
   ],
   "source": [
    "import random\n",
    "\n",
    "a = random.randint(1,6)\n",
    "b = random.randint(1,6)\n",
    "\n",
    "print(\"주사위를 던졌습니다!\")\n",
    "print(\"----------------\")\n",
    "print(f\"A의 숫자는 {a}입니다.\")\n",
    "print(f\"B의 숫자는 {b}입니다.\")\n",
    "print(\"----------------\")\n",
    "if a>b:\n",
    "    print(\"A가 이겼습니다\")\n",
    "elif a<b:\n",
    "    print(\"B가 이겼습니다\")\n",
    "else:\n",
    "    print(\"비겼습니다.\")"
   ]
  },
  {
   "cell_type": "code",
   "execution_count": 23,
   "metadata": {},
   "outputs": [
    {
     "name": "stdout",
     "output_type": "stream",
     "text": [
      "로또 번호는 [18, 36, 28, 9, 8, 27] 입니다\n"
     ]
    }
   ],
   "source": [
    "import random\n",
    "num = [1]*6\n",
    "result = [a* random.randint(1,45) for a in num]\n",
    "print(\"로또 번호는\",result,\"입니다\")"
   ]
  }
 ],
 "metadata": {
  "kernelspec": {
   "display_name": "downgrade",
   "language": "python",
   "name": "python3"
  },
  "language_info": {
   "codemirror_mode": {
    "name": "ipython",
    "version": 3
   },
   "file_extension": ".py",
   "mimetype": "text/x-python",
   "name": "python",
   "nbconvert_exporter": "python",
   "pygments_lexer": "ipython3",
   "version": "3.8.16"
  },
  "orig_nbformat": 4
 },
 "nbformat": 4,
 "nbformat_minor": 2
}
