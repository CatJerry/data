{
 "cells": [
  {
   "cell_type": "code",
   "execution_count": null,
   "id": "0b3c7b70",
   "metadata": {},
   "outputs": [],
   "source": [
    "# 3004\n",
    "def binarysearch(arr,target,first,last):\n",
    "    if first>last:\n",
    "        return 1\n",
    "    mid=int((first+last)/2)\n",
    "    if arr[mid]==target:\n",
    "        return mid\n",
    "    elif arr[mid]>target:\n",
    "        return binarysearch(arr,target,first,mid-1)\n",
    "    else:\n",
    "        return binarysearch(arr,target,mid+1,last)\n",
    "\n",
    "n = int(input(\"입력 : \"))\n",
    "c = list(map(int,input().split()))\n",
    "d = sorted(c)\n",
    "for i in range(n):\n",
    "    print(binarysearch(d,c[i],0,n-1))"
   ]
  },
  {
   "cell_type": "code",
   "execution_count": 30,
   "id": "ceabbbb1",
   "metadata": {},
   "outputs": [
    {
     "ename": "ValueError",
     "evalue": "not enough values to unpack (expected 2, got 0)",
     "output_type": "error",
     "traceback": [
      "\u001b[0;31m---------------------------------------------------------------------------\u001b[0m",
      "\u001b[0;31mValueError\u001b[0m                                Traceback (most recent call last)",
      "Cell \u001b[0;32mIn[30], line 2\u001b[0m\n\u001b[1;32m      1\u001b[0m \u001b[39m# 3170\u001b[39;00m\n\u001b[0;32m----> 2\u001b[0m n,m \u001b[39m=\u001b[39m \u001b[39mmap\u001b[39m(\u001b[39mint\u001b[39m,\u001b[39minput\u001b[39m()\u001b[39m.\u001b[39msplit())\n\u001b[1;32m      3\u001b[0m d \u001b[39m=\u001b[39m {}\n\u001b[1;32m      4\u001b[0m \u001b[39mfor\u001b[39;00m i \u001b[39min\u001b[39;00m \u001b[39mrange\u001b[39m(n):\n",
      "\u001b[0;31mValueError\u001b[0m: not enough values to unpack (expected 2, got 0)"
     ]
    }
   ],
   "source": [
    "# 3170\n",
    "n,m = map(int,input().split())\n",
    "d = {}\n",
    "for i in range(n):\n",
    "    a,b = input().split()\n",
    "    d[a] = d.get(a,0)+int(b)\n",
    "\n",
    "\n",
    "for i in range(m):\n",
    "    q = input(\"문제 : \")\n",
    "    print(d[q])\n",
    "\n"
   ]
  },
  {
   "cell_type": "code",
   "execution_count": null,
   "id": "7a955eb2",
   "metadata": {},
   "outputs": [],
   "source": []
  },
  {
   "attachments": {},
   "cell_type": "markdown",
   "id": "a0f7abfe",
   "metadata": {},
   "source": [
    "## 리스트"
   ]
  },
  {
   "cell_type": "code",
   "execution_count": 10,
   "id": "f0deef81",
   "metadata": {},
   "outputs": [],
   "source": [
    "menu = ['아아','라떼','케익']"
   ]
  },
  {
   "cell_type": "code",
   "execution_count": 17,
   "id": "1853b713",
   "metadata": {},
   "outputs": [
    {
     "data": {
      "text/plain": [
       "['아아', '라떼', '케익', '홍차', '콜라', '자바칩']"
      ]
     },
     "execution_count": 17,
     "metadata": {},
     "output_type": "execute_result"
    }
   ],
   "source": [
    "new_menu = ['홍차','콜라','자바칩']\n",
    "menu += new_menu\n",
    "menu"
   ]
  },
  {
   "attachments": {},
   "cell_type": "markdown",
   "id": "23e02d9c",
   "metadata": {},
   "source": [
    "## 딕셔너리"
   ]
  }
 ],
 "metadata": {
  "kernelspec": {
   "display_name": "Python 3 (ipykernel)",
   "language": "python",
   "name": "python3"
  },
  "language_info": {
   "codemirror_mode": {
    "name": "ipython",
    "version": 3
   },
   "file_extension": ".py",
   "mimetype": "text/x-python",
   "name": "python",
   "nbconvert_exporter": "python",
   "pygments_lexer": "ipython3",
   "version": "3.8.16"
  }
 },
 "nbformat": 4,
 "nbformat_minor": 5
}
